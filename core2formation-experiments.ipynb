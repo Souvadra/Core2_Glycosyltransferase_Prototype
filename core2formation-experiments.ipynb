{
 "cells": [
  {
   "cell_type": "code",
   "execution_count": 28,
   "metadata": {
    "scrolled": false
   },
   "outputs": [
    {
     "name": "stdout",
     "output_type": "stream",
     "text": [
      "PyRosetta-4 2020 [Rosetta PyRosetta4.conda.linux.cxx11thread.serialization.CentOS.python37.Release 2020.40+release.f01fa77e7385c2c0bdac6e346b24a6d8d900e7c7 2020-10-02T11:47:11] retrieved from: http://www.pyrosetta.org\n",
      "(C) Copyright Rosetta Commons Member Institutions. Created in JHU by Sergey Lyskov and PyRosetta Team.\n",
      "\u001b[0mcore.init: {0} \u001b[0mChecking for fconfig files in pwd and ./rosetta/flags\n",
      "\u001b[0mcore.init: {0} \u001b[0mRosetta version: PyRosetta4.conda.linux.cxx11thread.serialization.CentOS.python37.Release r267 2020.40+release.f01fa77 f01fa77e7385c2c0bdac6e346b24a6d8d900e7c7 http://www.pyrosetta.org 2020-10-02T11:47:11\n",
      "\u001b[0mcore.init: {0} \u001b[0mcommand: PyRosetta -include_sugars -write_pdb_link_records -ex1 -ex2 -alternate_3_letter_codes pdb_sugar -auto_detect_glycan_connections -min_bond_length 1.1 -max_bond_length 1.5 -ignore_zero_occupancy false -ignore_unrecognized_res false -database /home/souvadra/anaconda3/envs/pyrosetta_env/lib/python3.7/site-packages/pyrosetta/database\n",
      "\u001b[0mbasic.random.init_random_generator: {0} \u001b[0m'RNG device' seed mode, using '/dev/urandom', seed=-1905003876 seed_offset=0 real_seed=-1905003876 thread_index=0\n",
      "\u001b[0mbasic.random.init_random_generator: {0} \u001b[0mRandomGenerator:init: Normal mode, seed=-1905003876 RG_type=mt19937\n",
      "\u001b[0mcore.import_pose.import_pose: {0} \u001b[0mFile '/home/souvadra/myGitFolders/Glycosyltransferase/side_project/input_substrates/2ffu-monomer-alpha-GalNAc-metal_removed.pdb' automatically determined to be of type PDB\n",
      "\u001b[0mcore.io.util: {0} \u001b[0mAutomatic glycan connection is activated.\n",
      "\u001b[0mcore.io.util: {0} \u001b[0mStart reordering residues.\n",
      "\u001b[0mcore.io.util: {0} \u001b[0mCorrected glycan residue order (internal numbering): [496]\n",
      "\u001b[0mcore.io.util: {0} \u001b[0m\n",
      "\u001b[0mcore.io.pose_from_sfr.PoseFromSFRBuilder: {0} \u001b[0m\u001b[1m[ WARNING ]\u001b[0m skipping pdb residue b/c it's missing too many mainchain atoms:  506 D Gal ->2)-alpha-D-Galf:non-reducing_end:2-AcNH\n",
      "\u001b[0mcore.io.pose_from_sfr.PoseFromSFRBuilder: {0} \u001b[0mmissing:  O2\n",
      "\u001b[0mcore.io.pose_from_sfr.PoseFromSFRBuilder: {0} \u001b[0mAdding undetected upper terminus type to residue 495,  505 D\n",
      "\u001b[0mcore.io.pose_from_sfr.PoseFromSFRBuilder: {0} \u001b[0m\u001b[1m[ WARNING ]\u001b[0m UDP495 has an unfavorable ring conformation; the coordinates for this input structure may have been poorly assigned.\n",
      "\u001b[0mcore.conformation.Conformation: {0} \u001b[0mFound disulfide between residues 52 280\n",
      "\u001b[0mcore.conformation.Conformation: {0} \u001b[0mcurrent variant for 52 CYS\n",
      "\u001b[0mcore.conformation.Conformation: {0} \u001b[0mcurrent variant for 280 CYS\n",
      "\u001b[0mcore.conformation.Conformation: {0} \u001b[0mcurrent variant for 52 CYD\n",
      "\u001b[0mcore.conformation.Conformation: {0} \u001b[0mcurrent variant for 280 CYD\n",
      "\u001b[0mcore.conformation.Conformation: {0} \u001b[0mFound disulfide between residues 271 349\n",
      "\u001b[0mcore.conformation.Conformation: {0} \u001b[0mcurrent variant for 271 CYS\n",
      "\u001b[0mcore.conformation.Conformation: {0} \u001b[0mcurrent variant for 349 CYS\n",
      "\u001b[0mcore.conformation.Conformation: {0} \u001b[0mcurrent variant for 271 CYD\n",
      "\u001b[0mcore.conformation.Conformation: {0} \u001b[0mcurrent variant for 349 CYD\n",
      "\u001b[0mcore.conformation.Conformation: {0} \u001b[0mFound disulfide between residues 382 399\n",
      "\u001b[0mcore.conformation.Conformation: {0} \u001b[0mcurrent variant for 382 CYS\n",
      "\u001b[0mcore.conformation.Conformation: {0} \u001b[0mcurrent variant for 399 CYS\n",
      "\u001b[0mcore.conformation.Conformation: {0} \u001b[0mcurrent variant for 382 CYD\n",
      "\u001b[0mcore.conformation.Conformation: {0} \u001b[0mcurrent variant for 399 CYD\n",
      "\u001b[0mcore.conformation.Conformation: {0} \u001b[0mFound disulfide between residues 422 439\n",
      "\u001b[0mcore.conformation.Conformation: {0} \u001b[0mcurrent variant for 422 CYS\n",
      "\u001b[0mcore.conformation.Conformation: {0} \u001b[0mcurrent variant for 439 CYS\n",
      "\u001b[0mcore.conformation.Conformation: {0} \u001b[0mcurrent variant for 422 CYD\n",
      "\u001b[0mcore.conformation.Conformation: {0} \u001b[0mcurrent variant for 439 CYD\n",
      "\u001b[0mcore.conformation.Conformation: {0} \u001b[0mFound disulfide between residues 465 481\n",
      "\u001b[0mcore.conformation.Conformation: {0} \u001b[0mcurrent variant for 465 CYS\n",
      "\u001b[0mcore.conformation.Conformation: {0} \u001b[0mcurrent variant for 481 CYS\n",
      "\u001b[0mcore.conformation.Conformation: {0} \u001b[0mcurrent variant for 465 CYD\n",
      "\u001b[0mcore.conformation.Conformation: {0} \u001b[0mcurrent variant for 481 CYD\n"
     ]
    }
   ],
   "source": [
    "import sys \n",
    "from pyrosetta import *\n",
    "from pyrosetta.rosetta import *\n",
    "from pyrosetta.rosetta.protocols.carbohydrates import *\n",
    "from pyrosetta.rosetta.core.pose import *\n",
    "from pyrosetta.rosetta.core.scoring import *\n",
    "from pyrosetta.rosetta.protocols.minimization_packing import *\n",
    "from pyrosetta.rosetta.core.pose.carbohydrates import glycosylate_pose, glycosylate_pose_by_file\n",
    "from pyrosetta.rosetta.protocols.carbohydrates import SimpleGlycosylateMover\n",
    "from pyrosetta.rosetta.protocols.rosetta_scripts import *\n",
    "\n",
    "## Personal Imports\n",
    "import basePeptidePrep\n",
    "import addBaseSugarAndEnzyme\n",
    "\n",
    "## Pyrosetta Initialization\n",
    "pyrosetta.init('-include_sugars -write_pdb_link_records -ex1 -ex2 -alternate_3_letter_codes pdb_sugar -auto_detect_glycan_connections -min_bond_length 1.1 -max_bond_length 1.5 -ignore_zero_occupancy false -ignore_unrecognized_res false')\n",
    "\n",
    "## Command Line Arguments \n",
    "'''\n",
    "Command Line Arguments:\n",
    "# For the base peptide \n",
    "- Sequence of the base peptide (2-3 AA long peptides are ideal) : base_seq\n",
    "- Position of the sequence containing THR that will be glycosylated : base_pos\n",
    "- the sugar that will be glycosylated on the base peptide : base_sugar\n",
    "\n",
    "# input pdb files\n",
    "- The enzyme with donor peptide \n",
    "\n",
    "- The constraint file\n",
    "\n",
    "'''\n",
    "base_seq = \"STP\"\n",
    "base_position = 2\n",
    "base_sugar = None #\"core1\"\n",
    "input_enzyme_file = \"/home/souvadra/myGitFolders/Glycosyltransferase/side_project/input_substrates/2ffu-monomer-alpha-GalNAc-metal_removed.pdb\" # ra/myGitFolders/Glycosyltransferase/glycan_sampler_pipeline/output_3OTK-closed-S217C/3OTK-closed-monomer-alpha-GlcNAc-S217C_0005.pdb\"\n",
    "constraints_file = \"ppGalNAC_T2_constraints_file.cst\" #\"constraints_file.cst\"\n",
    "#constraints_file = \"trialConstraint.cst\"\n",
    "## Prepare the base peptide \n",
    "base_pose = basePeptidePrep.basePeptideBuild(base_seq, base_position, base_sugar)\n",
    "\n",
    "## Addition of peptide and sugar motif \n",
    "enzyme_pose = pose_from_pdb(input_enzyme_file)"
   ]
  },
  {
   "cell_type": "code",
   "execution_count": 29,
   "metadata": {},
   "outputs": [
    {
     "name": "stdout",
     "output_type": "stream",
     "text": [
      "FOLD_TREE  EDGE 1 494 -1  EDGE 1 495 1 \n"
     ]
    }
   ],
   "source": [
    "print(enzyme_pose.fold_tree())\n"
   ]
  },
  {
   "cell_type": "code",
   "execution_count": 30,
   "metadata": {},
   "outputs": [
    {
     "name": "stdout",
     "output_type": "stream",
     "text": [
      "\u001b[0mcore.kinematics.FoldTree: {0} \u001b[0m\u001b[1m[ WARNING ]\u001b[0m insert_fold_tree_by_jump: anchor_pos is not a vertex of the tree!! anchor_pos= 493\n",
      "\u001b[0mcore.kinematics.FoldTree: {0} \u001b[0m\u001b[1m[ WARNING ]\u001b[0m *this= FOLD_TREE  EDGE 1 494 -1  EDGE 1 495 1\n",
      "\u001b[0mcore.kinematics.FoldTree: {0} \u001b[0m\u001b[1m[ WARNING ]\u001b[0m Adding anchor_pos as a new vertex!\n"
     ]
    }
   ],
   "source": [
    "def mergePoses(base_pose, enzyme_pose):\n",
    "    \"\"\"merge the base pose into enzyme pose without making any covalent bond\"\"\"\n",
    "    anchor_point = int(enzyme_pose.total_residue()) - 2 # just to make sure that the UDP-sugar remains the last residues in the whole pose\n",
    "    enzyme_pose.append_pose_by_jump(base_pose, anchor_point)\n",
    "\n",
    "mergePoses(base_pose, enzyme_pose)"
   ]
  },
  {
   "cell_type": "code",
   "execution_count": 31,
   "metadata": {},
   "outputs": [
    {
     "name": "stdout",
     "output_type": "stream",
     "text": [
      "54.70077725166518\n"
     ]
    }
   ],
   "source": [
    "residue1 = enzyme_pose.residue(495).xyz(\"3OPB\")\n",
    "residue2 = enzyme_pose.residue(497).xyz(\"CB\")\n",
    "print((residue1-residue2).norm())"
   ]
  },
  {
   "cell_type": "code",
   "execution_count": 32,
   "metadata": {},
   "outputs": [
    {
     "name": "stdout",
     "output_type": "stream",
     "text": [
      "Residue 497: THR (THR, T):\n",
      "Base: THR\n",
      " Properties: POLYMER PROTEIN CANONICAL_AA SC_ORBITALS POLAR BETA_BRANCHED_SIDECHAIN METALBINDING ALPHA_AA L_AA\n",
      " Variant types:\n",
      " Main-chain atoms:  N    CA   C  \n",
      " Backbone atoms:    N    CA   C    O    H    HA \n",
      " Side-chain atoms:  CB   OG1  CG2  HB   HG1 1HG2 2HG2 3HG2\n",
      "Atom Coordinates:\n",
      "   N  : 3.33248, 1.53597, 1.45999e-16\n",
      "   CA : 3.98758, 2.83851, 1.11973e-17\n",
      "   C  : 5.50383, 2.69251, 3.98699e-16\n",
      "   O  : 6.02991, 1.57957, 1.02723e-15\n",
      "   CB : 3.54895, 3.67965, 1.21303\n",
      "   OG1: 2.61316, 2.93341, 2.002\n",
      "   CG2: 2.89987, 4.97701, 0.755875\n",
      "   H  : 3.89945, 0.700123, 4.63798e-16\n",
      "   HA : 3.70087, 3.36994, -0.907762\n",
      "   HB : 4.41811, 3.91188, 1.82811\n",
      "   HG1: 2.46818, 2.07442, 1.59792\n",
      "  1HG2: 2.59668, 5.55853, 1.62629\n",
      "  2HG2: 3.61277, 5.55205, 0.165202\n",
      "  3HG2: 2.02452, 4.75122, 0.14823\n",
      "Mirrored relative to coordinates in ResidueType: FALSE\n",
      "\n"
     ]
    }
   ],
   "source": [
    "print(enzyme_pose.residue(497))"
   ]
  },
  {
   "cell_type": "code",
   "execution_count": 33,
   "metadata": {},
   "outputs": [
    {
     "name": "stdout",
     "output_type": "stream",
     "text": [
      "Residue 495: UDP:non-conjugated (UDP, Z):\n",
      "Base: UDP\n",
      " Properties: POLYMER NUCLEOTIDE_DIPHOSPHATE LOWER_TERMINUS UPPER_TERMINUS POLAR AROMATIC CYCLIC\n",
      " Variant types: UPPER_TERMINUS_VARIANT LOWER_TERMINUS_VARIANT\n",
      " Main-chain atoms:  C1'  C2'  C3'  C4'  C5'  O5'  PA  3OPA  PB  3OPB\n",
      " Backbone atoms:    C1'  C2'  C3'  C4'  C5'  O5'  PA  3OPA  PB  3OPB  O4' 1OPA 2OPA 1OPB 2OPB VO4' VC1'  H1'  H2'  H3'  H4' 1H5' 2H5'\n",
      " Ring atoms:    C1'  C2'  C3'  C4'  O4'\n",
      " Side-chain atoms:  N1   C2   O2   N3   C4   O4   C5   C6   O2'  O3'  H3   H5   H6  HO2' HO3'\n",
      "Ring Conformer: 2T1 (twist): C-P parameters (q, phi, theta): 0.4, 54; nu angles (degrees): 60, -60, 30, 30, -60\n",
      "  N1 : equatorial\n",
      "  O2': equatorial\n",
      "  O3': axial\n",
      "  C5': neither axial nor equatorial\n",
      "Atom Coordinates:\n",
      "   C1': 15.188, 2.766, -55.535\n",
      "   C2': 15.128, 2.484, -54.047\n",
      "   C3': 16.305, 3.325, -53.631\n",
      "   C4': 17.315, 3.048, -54.604\n",
      "   C5': 18.474, 2.044, -54.301\n",
      "   O5': 17.867, 0.816, -53.93\n",
      "   PA : 18.206, 0.242, -52.529\n",
      "  3OPA: 19.617, -0.459, -52.781\n",
      "   PB : 20.887, -0.56, -51.774\n",
      "  3OPB: 20.662, -1.471, -50.486\n",
      "   O4': 16.593, 2.691, -55.768\n",
      "  1OPA: 18.375, 1.252, -51.518\n",
      "  2OPA: 17.209, -0.914, -52.165\n",
      "  1OPB: 21.305, 0.827, -51.31\n",
      "  2OPB: 21.981, -1.347, -52.535\n",
      "  VO4': 15.8655, 3.99198, -55.7131 (virtual)\n",
      "  VC1': 15.2819, 3.21067, -55.6994 (virtual)\n",
      "   N1 : 14.508, 1.623, -56.214\n",
      "   C2 : 13.431, 1.926, -57.118\n",
      "   O2 : 13.071, 3.102, -57.33\n",
      "   N3 : 12.765, 0.882, -57.776\n",
      "   C4 : 13.096, -0.499, -57.608\n",
      "   O4 : 12.472, -1.331, -58.212\n",
      "   C5 : 14.204, -0.96, -56.699\n",
      "   C6 : 14.924, 0.183, -55.985\n",
      "   O2': 14.079, 2.815, -53.157\n",
      "   O3': 16.126, 4.731, -53.508\n",
      "   H1': 14.747, 3.62219, -55.7192\n",
      "   H2': 15.3577, 1.53187, -54.0719\n",
      "   H3': 16.5671, 2.9315, -52.773\n",
      "   H4': 17.698, 3.93751, -54.7508\n",
      "  1H5': 19.0354, 1.89693, -55.0908\n",
      "  2H5': 19.0361, 2.35904, -53.563\n",
      "   H3 : 12.0359, 1.14037, -58.3772\n",
      "   H5 : 14.4043, -1.91542, -56.6105\n",
      "   H6 : 15.656, -0.0461795, -55.3766\n",
      "  HO2': 13.285, 2.28886, -53.3896\n",
      "  HO3': 16.9727, 5.13717, -53.2262\n",
      "Mirrored relative to coordinates in ResidueType: FALSE\n",
      "\n"
     ]
    }
   ],
   "source": [
    "print(enzyme_pose.residue(495))"
   ]
  },
  {
   "cell_type": "code",
   "execution_count": 34,
   "metadata": {},
   "outputs": [
    {
     "name": "stdout",
     "output_type": "stream",
     "text": [
      "Residue 275: LEU (LEU, L):\n",
      "Base: LEU\n",
      " Properties: POLYMER PROTEIN CANONICAL_AA HYDROPHOBIC ALIPHATIC METALBINDING ALPHA_AA L_AA\n",
      " Variant types:\n",
      " Main-chain atoms:  N    CA   C  \n",
      " Backbone atoms:    N    CA   C    O    H    HA \n",
      " Side-chain atoms:  CB   CG   CD1  CD2 1HB  2HB   HG  1HD1 2HD1 3HD1 1HD2 2HD2 3HD2\n",
      "Atom Coordinates:\n",
      "   N  : 36.188, 7.978, -62.437\n",
      "   CA : 35.312, 7.9, -61.272\n",
      "   C  : 36.107, 8.372, -60.064\n",
      "   O  : 37.261, 7.981, -59.889\n",
      "   CB : 34.851, 6.46, -61.029\n",
      "   CG : 34.123, 5.717, -62.15\n",
      "   CD1: 33.807, 4.304, -61.683\n",
      "   CD2: 32.84, 6.457, -62.521\n",
      "   H  : 37.0187, 7.40426, -62.4672\n",
      "   HA : 34.433, 8.51593, -61.4586\n",
      "  1HB : 35.7212, 5.85356, -60.7832\n",
      "  2HB : 34.1746, 6.45105, -60.1744\n",
      "   HG : 34.7686, 5.65799, -63.0267\n",
      "  1HD1: 33.2877, 3.76616, -62.4763\n",
      "  2HD1: 34.7344, 3.78488, -61.4408\n",
      "  3HD1: 33.1725, 4.3467, -60.7985\n",
      "  1HD2: 32.3287, 5.92054, -63.3209\n",
      "  2HD2: 32.1884, 6.51531, -61.6489\n",
      "  3HD2: 33.0854, 7.46405, -62.8586\n",
      "Mirrored relative to coordinates in ResidueType: FALSE\n",
      "\n"
     ]
    }
   ],
   "source": [
    "print(enzyme_pose.residue(275))"
   ]
  },
  {
   "cell_type": "code",
   "execution_count": 35,
   "metadata": {},
   "outputs": [
    {
     "ename": "RuntimeError",
     "evalue": "\n\nFile: /home/benchmark/rosetta/source/src/core/pose/Pose.cc:951\n[ ERROR ] UtilityExitException\nERROR: Pose::residue( Size const seqpos ): variable seqpos is out of range!\n\n",
     "output_type": "error",
     "traceback": [
      "\u001b[0;31m---------------------------------------------------------------------------\u001b[0m",
      "\u001b[0;31mRuntimeError\u001b[0m                              Traceback (most recent call last)",
      "\u001b[0;32m<ipython-input-35-08d486e4c869>\u001b[0m in \u001b[0;36m<module>\u001b[0;34m\u001b[0m\n\u001b[0;32m----> 1\u001b[0;31m \u001b[0mprint\u001b[0m\u001b[0;34m(\u001b[0m\u001b[0menzyme_pose\u001b[0m\u001b[0;34m.\u001b[0m\u001b[0mresidue\u001b[0m\u001b[0;34m(\u001b[0m\u001b[0;36m537\u001b[0m\u001b[0;34m)\u001b[0m\u001b[0;34m)\u001b[0m\u001b[0;34m\u001b[0m\u001b[0;34m\u001b[0m\u001b[0m\n\u001b[0m",
      "\u001b[0;31mRuntimeError\u001b[0m: \n\nFile: /home/benchmark/rosetta/source/src/core/pose/Pose.cc:951\n[ ERROR ] UtilityExitException\nERROR: Pose::residue( Size const seqpos ): variable seqpos is out of range!\n\n"
     ]
    }
   ],
   "source": [
    "print(enzyme_pose.residue(537))"
   ]
  },
  {
   "cell_type": "code",
   "execution_count": 38,
   "metadata": {},
   "outputs": [
    {
     "name": "stdout",
     "output_type": "stream",
     "text": [
      "PyRosetta-4 2020 [Rosetta PyRosetta4.conda.linux.cxx11thread.serialization.CentOS.python37.Release 2020.40+release.f01fa77e7385c2c0bdac6e346b24a6d8d900e7c7 2020-10-02T11:47:11] retrieved from: http://www.pyrosetta.org\n",
      "(C) Copyright Rosetta Commons Member Institutions. Created in JHU by Sergey Lyskov and PyRosetta Team.\n",
      "\u001b[0mcore.init: {0} \u001b[0mChecking for fconfig files in pwd and ./rosetta/flags\n",
      "\u001b[0mcore.init: {0} \u001b[0mRosetta version: PyRosetta4.conda.linux.cxx11thread.serialization.CentOS.python37.Release r267 2020.40+release.f01fa77 f01fa77e7385c2c0bdac6e346b24a6d8d900e7c7 http://www.pyrosetta.org 2020-10-02T11:47:11\n",
      "\u001b[0mcore.init: {0} \u001b[0mcommand: PyRosetta -constraints:cst_fa_file ppGalNAC_T2_constraints_file.cst -database /home/souvadra/anaconda3/envs/pyrosetta_env/lib/python3.7/site-packages/pyrosetta/database\n",
      "\u001b[0mbasic.random.init_random_generator: {0} \u001b[0m'RNG device' seed mode, using '/dev/urandom', seed=-1592909475 seed_offset=0 real_seed=-1592909475 thread_index=0\n",
      "\u001b[0mbasic.random.init_random_generator: {0} \u001b[0mRandomGenerator:init: Normal mode, seed=-1592909475 RG_type=mt19937\n",
      "\u001b[0mcore.scoring.ScoreFunction: {0} \u001b[0m\n",
      "------------------------------------------------------------\n",
      " Scores                       Weight   Raw Score Wghtd.Score\n",
      "------------------------------------------------------------\n",
      " fa_atr                       1.000   -3013.071   -3013.071\n",
      " fa_rep                       0.550     836.642     460.153\n",
      " fa_sol                       1.000    1961.232    1961.232\n",
      " fa_intra_rep                 0.005    1205.361       6.027\n",
      " fa_intra_sol_xover4          1.000     121.865     121.865\n",
      " lk_ball_wtd                  1.000     -52.934     -52.934\n",
      " fa_elec                      1.000    -739.372    -739.372\n",
      " hbond_sr_bb                  1.000    -124.255    -124.255\n",
      " hbond_lr_bb                  1.000    -111.380    -111.380\n",
      " hbond_bb_sc                  1.000    -106.842    -106.842\n",
      " hbond_sc                     1.000     -68.888     -68.888\n",
      " dslf_fa13                    1.250      -5.770      -7.212\n",
      " omega                        0.400     -13.956      -5.582\n",
      " fa_dun                       0.700    1447.520    1013.264\n",
      " p_aa_pp                      0.600    -118.116     -70.870\n",
      " yhh_planarity                0.625       0.000       0.000\n",
      " ref                          1.000     139.439     139.439\n",
      " rama_prepro                  0.450      85.274      38.373\n",
      " cart_bonded                  0.500    1343.326     671.663\n",
      "---------------------------------------------------\n",
      " Total weighted score:                      111.609\n",
      "None\n"
     ]
    }
   ],
   "source": [
    "from pyrosetta import *\n",
    "from pyrosetta.rosetta import *\n",
    "from pyrosetta.rosetta.protocols.carbohydrates import *\n",
    "from pyrosetta.rosetta.core.pose import *\n",
    "from pyrosetta.rosetta.core.scoring import *\n",
    "from pyrosetta.rosetta.protocols.minimization_packing import *\n",
    "from pyrosetta.rosetta.core.pose.carbohydrates import glycosylate_pose, glycosylate_pose_by_file\n",
    "from pyrosetta.rosetta.protocols.carbohydrates import SimpleGlycosylateMover\n",
    "from pyrosetta.rosetta.protocols.rosetta_scripts import *\n",
    "\n",
    "from pyrosetta.rosetta.core.scoring.constraints import *\n",
    "from pyrosetta.rosetta.core.select.movemap import MoveMapFactory\n",
    "\n",
    "\"\"\" This program takes the base sugar pose and the pose of the enzyme with donor moiety\n",
    "     and the constraints and make sure the they obey the constraint in subsequent relax\n",
    "       procedure as a procedure to bypass manual overlaying using PyMOL. \"\"\"\n",
    "init(\"-constraints:cst_fa_file \" + constraints_file)\n",
    "\n",
    "sfxn = pyrosetta.create_score_function(\"ref2015_cart.wts\") #get_fa_scorefxn()\n",
    "initial_energy = sfxn(enzyme_pose)\n",
    "'''\n",
    "sfxn.set_weight(atom_pair_constraint, 1.0)\n",
    "add_fa_constraints_from_cmdline(enzyme_pose, sfxn)\n",
    "'''\n",
    "print(sfxn.show(enzyme_pose))"
   ]
  },
  {
   "cell_type": "code",
   "execution_count": 6,
   "metadata": {},
   "outputs": [
    {
     "name": "stdout",
     "output_type": "stream",
     "text": [
      "KVRWPDFNQEAYVGGTMVRSGQDPYARNKFNQVESDKLRMDRAIPDTRHDQCQRKQWRVDLPATSVVITFHNEARSALLRTVVSVLKKSPPHLIKEIILVDDYSNDPEDGALLGKIEKVRVLRNDRREGLMRSRVRGADAAQAKVLTFLDSHCECNEHWLEPLLERVAEDRTRVVSPIIDVINMDNFQYVGASADLKGGFDWNLVFKWDYMTPEQRRSRQGNPVAPIKTPMIAGGLFVMDKFYFEELGKYDMMMDVWGGENLEISFRVWQCGGSLEIIPCSRVGHVFRKQHPYTFPGGSGTVFARNTRRAAEVWMDEYKNFYYAAVPSARNVPYGNIQSRLELRKKLSCKPFKWYLENVYPELRVPDHQDIAFGALQQGTNCLDTLGHFADGVVGVYECHNAGGNQEWALTKEKSVKHMDLCLTVVDRAPGSLIKLQGCRENDSRQKWEQIEGNSKLRHVGSNLCLDSRTAKSGGLSVEVCGPALSQQWKFTLNZSTP\n"
     ]
    }
   ],
   "source": [
    "print(enzyme_pose.sequence())"
   ]
  },
  {
   "cell_type": "code",
   "execution_count": 7,
   "metadata": {},
   "outputs": [],
   "source": [
    "chain_begin_list = []\n",
    "chain_end_list = []\n",
    "chain_begin_list.append(int(enzyme_pose.chain_begin(1)))\n",
    "chain_end_list.append(int(enzyme_pose.chain_end(1)))\n",
    "while (chain_end_list[-1] < int(enzyme_pose.total_residue())):\n",
    "    chain_num = int(enzyme_pose.chain(chain_end_list[-1]+1))\n",
    "    chain_begin_list.append(int(enzyme_pose.chain_begin(chain_num)))\n",
    "    chain_end_list.append(int(enzyme_pose.chain_end(chain_num)))"
   ]
  },
  {
   "cell_type": "code",
   "execution_count": 8,
   "metadata": {},
   "outputs": [
    {
     "name": "stdout",
     "output_type": "stream",
     "text": [
      "[1, 495, 496]\n",
      "[494, 495, 498]\n",
      "3\n"
     ]
    }
   ],
   "source": [
    "print(chain_begin_list)\n",
    "print(chain_end_list)\n",
    "total_chains = len(chain_begin_list)\n",
    "print(total_chains)"
   ]
  },
  {
   "cell_type": "code",
   "execution_count": 9,
   "metadata": {},
   "outputs": [],
   "source": [
    "#AA_set = set()\n",
    "#for i in range(chain_begin_list[3],chain_end_list[3]+1):\n",
    "#    name = str(enzyme_pose.residue(i).name())\n",
    "#    print(name)"
   ]
  },
  {
   "cell_type": "code",
   "execution_count": 10,
   "metadata": {},
   "outputs": [],
   "source": [
    "AA_set = {'ALA','ARG','ASN','ASP','CYS','GLN','GLU','GLY','HIS','ILE','LEU','LYS','MET','PHE','PRO','SER','THR','TRP','TYR','VAL'}"
   ]
  },
  {
   "cell_type": "code",
   "execution_count": null,
   "metadata": {},
   "outputs": [],
   "source": []
  },
  {
   "cell_type": "code",
   "execution_count": 11,
   "metadata": {},
   "outputs": [
    {
     "name": "stdout",
     "output_type": "stream",
     "text": [
      "1\n",
      "3\n",
      "2\n"
     ]
    }
   ],
   "source": [
    "# Criteria 1: Enzyme generally the largest chain of this reaction \n",
    "chain_length_list = []\n",
    "for i in range(0,len(chain_begin_list)):\n",
    "    chain_length_list.append(chain_end_list[i]-chain_begin_list[i])\n",
    "largest_chain_length = max(chain_length_list)\n",
    "for i in range(0,len(chain_length_list)):\n",
    "    if chain_length_list[i] == largest_chain_length:\n",
    "        enzyme_chain = i+1;\n",
    "print(enzyme_chain)\n",
    "# Criteria 2: Acceptor peptide will be the only another chain without any sugar in it\n",
    "for i in range(0,len(chain_begin_list)):\n",
    "    if (i+1 != enzyme_chain):\n",
    "        assumption = True\n",
    "        for j in range(chain_begin_list[i],chain_end_list[i]+1):\n",
    "            name = str(enzyme_pose.residue(j).name())\n",
    "            name = name[0:3]\n",
    "            if name == 'UDP': donor_chain = i+1\n",
    "            if name not in AA_set:\n",
    "                assumption = False\n",
    "        if assumption == True:\n",
    "            acceptor_chain = i+1\n",
    "            print(acceptor_chain)\n",
    "print(donor_chain)"
   ]
  },
  {
   "cell_type": "code",
   "execution_count": 12,
   "metadata": {},
   "outputs": [],
   "source": [
    "#print(enzyme_pose.residue(370))"
   ]
  },
  {
   "cell_type": "code",
   "execution_count": 24,
   "metadata": {},
   "outputs": [
    {
     "name": "stdout",
     "output_type": "stream",
     "text": [
      "5.315526878870988\n",
      "288\n"
     ]
    }
   ],
   "source": [
    "reference = enzyme_pose.residue(chain_begin_list[donor_chain-1]).xyz(\"3OPB\")\n",
    "distance_lowest = float('inf')\n",
    "pivot_residue = float('inf')\n",
    "for i in range(chain_begin_list[enzyme_chain-1],chain_end_list[enzyme_chain-1]+1):\n",
    "    #if i == 288 or i == 287: continue\n",
    "    residue1 = enzyme_pose.residue(i).xyz(\"CA\")\n",
    "    distance_curr = (residue1-reference).norm()\n",
    "    if distance_curr < distance_lowest:\n",
    "        distance_lowest = distance_curr\n",
    "        pivot_residue = i\n",
    "print(distance_lowest)\n",
    "print(pivot_residue)"
   ]
  },
  {
   "cell_type": "code",
   "execution_count": 14,
   "metadata": {},
   "outputs": [
    {
     "name": "stdout",
     "output_type": "stream",
     "text": [
      "1\n",
      "2\n",
      "3\n"
     ]
    }
   ],
   "source": [
    "print(enzyme_chain)\n",
    "print(donor_chain)\n",
    "print(acceptor_chain)\n",
    "#print(enzyme_pose.chain(373))"
   ]
  },
  {
   "cell_type": "code",
   "execution_count": null,
   "metadata": {},
   "outputs": [],
   "source": []
  },
  {
   "cell_type": "code",
   "execution_count": 15,
   "metadata": {},
   "outputs": [
    {
     "name": "stdout",
     "output_type": "stream",
     "text": [
      "FOLD_TREE  EDGE 1 495 1  EDGE 1 493 -1  EDGE 493 494 -1  EDGE 493 496 2  EDGE 496 498 -1 \n",
      "FOLD_TREE  EDGE 288 1 -1  EDGE 288 494 -1  EDGE 288 497 1  EDGE 288 495 2  EDGE 497 496 -1  EDGE 497 498 -1 \n"
     ]
    }
   ],
   "source": [
    "## Change the FoldTree to more Docking friendly option as suggested by Pooja \n",
    "first_residue_enzyme = int(enzyme_pose.chain_begin(enzyme_chain)) \n",
    "last_residue_enzyme = int(enzyme_pose.chain_end(enzyme_chain))\n",
    "\n",
    "anchor_residue_enzyme = pivot_residue # 130 ## Right now, I am keeping it as a user input, I'll change it later\n",
    "\n",
    "first_residue_substrate = int(enzyme_pose.chain_begin(acceptor_chain))\n",
    "last_residue_substrate = int(enzyme_pose.chain_end(acceptor_chain))\n",
    "anchor_residue_substrate = int((first_residue_substrate+last_residue_substrate)/2)\n",
    "first_donor = int(enzyme_pose.chain_begin(donor_chain))\n",
    "last_donor = int(enzyme_pose.chain_end(donor_chain))\n",
    "\n",
    "ft_docking = pyrosetta.FoldTree()\n",
    "ft_docking.add_edge(anchor_residue_enzyme,1,-1)\n",
    "ft_docking.add_edge(anchor_residue_enzyme,last_residue_enzyme,-1)\n",
    "\n",
    "ft_docking.add_edge(anchor_residue_enzyme, anchor_residue_substrate, 1) \n",
    "ft_docking.add_edge(anchor_residue_enzyme, first_donor, 2)\n",
    "            \n",
    "ft_docking.add_edge(anchor_residue_substrate, first_residue_substrate, -1) # downstream base peptide \n",
    "ft_docking.add_edge(anchor_residue_substrate, last_residue_substrate, -1) # upstream base peptide \n",
    "ft_docking.add_edge(first_donor,last_donor,-1) # the donor UDP-GlcNAc backbone\n",
    "\n",
    "chemical_edges = enzyme_pose.fold_tree().get_chemical_edges() # connections to the glycan residues from anchor out \n",
    "for chemical in range(1, len(chemical_edges) + 1):\n",
    "    ft_docking.add_edge(chemical_edges[chemical].start(), chemical_edges[chemical].stop(), -2)\n",
    "    sugar_start_res = chemical_edges[chemical].stop()\n",
    "    sugar_chain = int(enzyme_pose.chain(sugar_start_res))\n",
    "    sugar_chain_start = int(enzyme_pose.chain_begin(sugar_chain))\n",
    "    sugar_chain_end = int(enzyme_pose.chain_end(sugar_chain))\n",
    "    ft_docking.add_edge(sugar_chain_start,sugar_chain_end,-1)\n",
    "    \n",
    "print(enzyme_pose.fold_tree())\n",
    "enzyme_pose.fold_tree(ft_docking)\n",
    "print(enzyme_pose.fold_tree())\n",
    "    \n",
    "    ## setting the movemap \n",
    "mm = pyrosetta.rosetta.core.kinematics.MoveMap()\n",
    "mm.set_bb(False)\n",
    "mm.set_chi(False)\n",
    "mm.set_jump(True)\n",
    "\n",
    "referencePose = None #pose_from_pdb(\"/home/souvadra/myGitFolders/Glycosyltransferase/Acceptor-Donor-Enzyme/GlcNAc-added-before-GalBGalNAc/3OTK-closed-monomer-alpha-GlcNAc_2GAM-GalBGalNAc.pdb\")  \n",
    "RMSD_list = []\n",
    "score_list = []"
   ]
  },
  {
   "cell_type": "code",
   "execution_count": null,
   "metadata": {},
   "outputs": [],
   "source": [
    "#pose_trial = pose_from_pdb(\"merging_result0.pdb\")\n",
    "#enzyme_pose.dump_pdb(\"trial_enzyme_combined.pdb\")"
   ]
  },
  {
   "cell_type": "code",
   "execution_count": null,
   "metadata": {},
   "outputs": [],
   "source": [
    "#trial_pose = pose_from_pdb(\"trial_enzyme_combined.pdb\")"
   ]
  },
  {
   "cell_type": "code",
   "execution_count": null,
   "metadata": {},
   "outputs": [],
   "source": [
    "    for trial_number in range(0,10):\n",
    "        ## Use Rigid Body Mover to bring the base peptide close to the enzyme\n",
    "        curr_enzyme_pose = enzyme_pose.clone()\n",
    "        rigid_body = pyrosetta.rosetta.protocols.rigid.RigidBodyPerturbNoCenterMover()\n",
    "        rigid_body.add_jump(1)\n",
    "        rigid_body.rot_magnitude(10)\n",
    "        rigid_body.trans_magnitude(5.0)\n",
    "        \n",
    "        first_pose = curr_enzyme_pose.clone()\n",
    "        num_iter = 0\n",
    "        while (sfxn(curr_enzyme_pose) > 0 ):\n",
    "            num_iter += 1\n",
    "            rigid_body.apply(first_pose)\n",
    "            if (sfxn(first_pose) < sfxn(curr_enzyme_pose)):\n",
    "                curr_enzyme_pose = first_pose.clone()\n",
    "                print(sfxn(curr_enzyme_pose))\n",
    "            else:\n",
    "                first_pose = curr_enzyme_pose.clone()\n",
    "            if (num_iter > 500):\n",
    "                break\n",
    "            #print(sfxn(enzyme_pose))\n",
    "        sfxn.show(curr_enzyme_pose)\n",
    "        print(curr_enzyme_pose.fold_tree())\n",
    "\n",
    "        rigid_body2 = pyrosetta.rosetta.protocols.rigid.RigidBodyPerturbNoCenterMover()\n",
    "        rigid_body2.add_jump(1)\n",
    "        rigid_body2.rot_magnitude(0)\n",
    "        rigid_body2.trans_magnitude(0.1)\n",
    "        \n",
    "        rigid_body_rot = pyrosetta.rosetta.protocols.rigid.RigidBodyPerturbNoCenterMover()\n",
    "        rigid_body_rot.add_jump(1)\n",
    "        rigid_body_rot.rot_magnitude(1)\n",
    "        rigid_body_rot.trans_magnitude(0)\n",
    "        \n",
    "        first_pose = curr_enzyme_pose.clone()\n",
    "        num_iter = 0\n",
    "        while (sfxn(curr_enzyme_pose) > (initial_energy) ):\n",
    "            num_iter += 1\n",
    "            rigid_body_rot.apply(first_pose)\n",
    "            if (sfxn(first_pose) < sfxn(curr_enzyme_pose)):\n",
    "                curr_enzyme_pose = first_pose.clone()\n",
    "                print(sfxn(curr_enzyme_pose), \"  rotation-iteration \")    \n",
    "            rigid_body2.apply(first_pose)\n",
    "            if (sfxn(first_pose) < sfxn(curr_enzyme_pose)):\n",
    "                curr_enzyme_pose = first_pose.clone()\n",
    "                print(sfxn(curr_enzyme_pose), \"  translation-iteration \")\n",
    "            else:\n",
    "                first_pose = curr_enzyme_pose.clone()\n",
    "            print(num_iter)\n",
    "            if (num_iter > 500):\n",
    "                break\n",
    "            #print(sfxn(enzyme_pose))\n",
    "        score_list.append(sfxn(curr_enzyme_pose))\n",
    "        RMSD_list.append(CA_rmsd(curr_enzyme_pose,referencePose))\n",
    "        dumping_name = \"merging_result\" + str(trial_number) + \".pdb\"\n",
    "        curr_enzyme_pose.dump_pdb(dumping_name)"
   ]
  },
  {
   "cell_type": "code",
   "execution_count": null,
   "metadata": {},
   "outputs": [],
   "source": [
    "score_list =  [773.4666756904846, -318.93840946168575, 1697.5004297047583, -412.9292382544952, -143.01147681384555, -400.8640686228233, -22.162164032408327, -405.205297699855, -411.6214919105398, -410.7368805728968, -411.9609342790661, -411.5920211360774, 1463.2421233287737, -410.52774273393493, -411.6392010088241, -411.3877064505025, -405.3111815912032, -405.6641760660225, -407.50873752734446, -410.51901301893963]\n",
    "RMSD_list = [1.6200072765350342, 1.3890552520751953, 2.1524126529693604, 0.962411642074585, 0.8145793080329895, 0.8073674440383911, 1.0122199058532715, 0.8093990683555603, 0.6696670651435852, 0.6450819969177246, 1.0149338245391846, 0.6716275215148926, 2.217975616455078, 0.6443003416061401, 0.6652771234512329, 0.6686609983444214, 0.9484436511993408, 0.6377775073051453, 0.9520885944366455, 0.6440408825874329]"
   ]
  },
  {
   "cell_type": "code",
   "execution_count": null,
   "metadata": {},
   "outputs": [],
   "source": [
    "import matplotlib.pylab as plt\n",
    "plt.scatter(RMSD_list,score_list)\n",
    "plt.xlabel(\"RMSD-value\")\n",
    "plt.ylabel(\"REU score\")"
   ]
  },
  {
   "cell_type": "code",
   "execution_count": null,
   "metadata": {},
   "outputs": [],
   "source": [
    "score_list"
   ]
  },
  {
   "cell_type": "code",
   "execution_count": null,
   "metadata": {},
   "outputs": [],
   "source": []
  },
  {
   "cell_type": "code",
   "execution_count": null,
   "metadata": {},
   "outputs": [],
   "source": [
    "CA_rmsd(enzyme_pose,referencePose)"
   ]
  },
  {
   "cell_type": "code",
   "execution_count": null,
   "metadata": {},
   "outputs": [],
   "source": [
    "initial_energy"
   ]
  },
  {
   "cell_type": "code",
   "execution_count": null,
   "metadata": {},
   "outputs": [],
   "source": []
  }
 ],
 "metadata": {
  "kernelspec": {
   "display_name": "Python 3",
   "language": "python",
   "name": "python3"
  },
  "language_info": {
   "codemirror_mode": {
    "name": "ipython",
    "version": 3
   },
   "file_extension": ".py",
   "mimetype": "text/x-python",
   "name": "python",
   "nbconvert_exporter": "python",
   "pygments_lexer": "ipython3",
   "version": "3.7.7"
  }
 },
 "nbformat": 4,
 "nbformat_minor": 4
}
