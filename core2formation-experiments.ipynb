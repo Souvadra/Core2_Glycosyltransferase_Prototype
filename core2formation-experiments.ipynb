{
 "cells": [
  {
   "cell_type": "code",
   "execution_count": 1,
   "metadata": {},
   "outputs": [
    {
     "name": "stdout",
     "output_type": "stream",
     "text": [
      "PyRosetta-4 2020 [Rosetta PyRosetta4.conda.linux.cxx11thread.serialization.CentOS.python37.Release 2020.40+release.f01fa77e7385c2c0bdac6e346b24a6d8d900e7c7 2020-10-02T11:47:11] retrieved from: http://www.pyrosetta.org\n",
      "(C) Copyright Rosetta Commons Member Institutions. Created in JHU by Sergey Lyskov and PyRosetta Team.\n",
      "\u001b[0mcore.init: {0} \u001b[0mChecking for fconfig files in pwd and ./rosetta/flags\n",
      "\u001b[0mcore.init: {0} \u001b[0mRosetta version: PyRosetta4.conda.linux.cxx11thread.serialization.CentOS.python37.Release r267 2020.40+release.f01fa77 f01fa77e7385c2c0bdac6e346b24a6d8d900e7c7 http://www.pyrosetta.org 2020-10-02T11:47:11\n",
      "\u001b[0mcore.init: {0} \u001b[0mcommand: PyRosetta -include_sugars -write_pdb_link_records -ex1 -ex2 -alternate_3_letter_codes pdb_sugar -auto_detect_glycan_connections -min_bond_length 1.1 -max_bond_length 1.5 -ignore_zero_occupancy false -ignore_unrecognized_res false -database /home/souvadra/anaconda3/envs/pyrosetta_env/lib/python3.7/site-packages/pyrosetta/database\n",
      "\u001b[0mbasic.random.init_random_generator: {0} \u001b[0m'RNG device' seed mode, using '/dev/urandom', seed=761945963 seed_offset=0 real_seed=761945963 thread_index=0\n",
      "\u001b[0mbasic.random.init_random_generator: {0} \u001b[0mRandomGenerator:init: Normal mode, seed=761945963 RG_type=mt19937\n",
      "\u001b[0mcore.chemical.GlobalResidueTypeSet: {0} \u001b[0mFinished initializing fa_standard residue type set.  Created 1641 residue types\n",
      "\u001b[0mcore.chemical.GlobalResidueTypeSet: {0} \u001b[0mTotal time to initialize 1.33637 seconds.\n",
      "\u001b[0mcore.chemical.carbohydrates.database_io: {0} \u001b[0mN-glycan_core N-glycan_core.iupac\n",
      "\u001b[0mcore.chemical.carbohydrates.database_io: {0} \u001b[0mglycan_core N-glycan_core.iupac\n",
      "\u001b[0mcore.chemical.carbohydrates.database_io: {0} \u001b[0mcore N-glycan_core.iupac\n",
      "\u001b[0mcore.chemical.carbohydrates.database_io: {0} \u001b[0mman3 N-glycan_core.iupac\n",
      "\u001b[0mcore.chemical.carbohydrates.database_io: {0} \u001b[0mman5 man5.iupac\n",
      "\u001b[0mcore.chemical.carbohydrates.database_io: {0} \u001b[0mman9 man9.iupac\n",
      "\u001b[0mcore.chemical.carbohydrates.database_io: {0} \u001b[0mbisected_N-glycan_core bisected_N-glycan_core.iupac\n",
      "\u001b[0mcore.chemical.carbohydrates.database_io: {0} \u001b[0mbisected_fucosylated_N-glycan_core bisected_fucosylated_N-glycan_core.iupac\n",
      "\u001b[0mcore.chemical.carbohydrates.database_io: {0} \u001b[0mcore_1_O-glycan core_1_O-glycan.iupac\n",
      "\u001b[0mcore.chemical.carbohydrates.database_io: {0} \u001b[0mcore_2_O-glycan core_2_O-glycan.iupac\n",
      "\u001b[0mcore.chemical.carbohydrates.database_io: {0} \u001b[0mcore_3_O-glycan core_3_O-glycan.iupac\n",
      "\u001b[0mcore.chemical.carbohydrates.database_io: {0} \u001b[0mcore_4_O-glycan core_4_O-glycan.iupac\n",
      "\u001b[0mcore.chemical.carbohydrates.database_io: {0} \u001b[0mcore_5_O-glycan core_5_O-glycan.iupac\n",
      "\u001b[0mcore.chemical.carbohydrates.database_io: {0} \u001b[0mcore_6_O-glycan core_6_O-glycan.iupac\n",
      "\u001b[0mcore.chemical.carbohydrates.database_io: {0} \u001b[0mcore_7_O-glycan core_7_O-glycan.iupac\n",
      "\u001b[0mcore.chemical.carbohydrates.database_io: {0} \u001b[0mcore_8_O-glycan core_8_O-glycan.iupac\n",
      "\u001b[0mcore.chemical.carbohydrates.database_io: {0} \u001b[0mfucosylated_N-glycan_core fucosylated_N-glycan_core.iupac\n",
      "\u001b[0mcore.chemical.carbohydrates.database_io: {0} \u001b[0mhigh-mannose_N-glycan_core high-mannose_N-glycan_core.iupac\n",
      "\u001b[0mcore.chemical.carbohydrates.database_io: {0} \u001b[0mhybrid_N-glycan_core hybrid_N-glycan_core.iupac\n",
      "\u001b[0mcore.chemical.carbohydrates.database_io: {0} \u001b[0mhybrid_bisected_N-glycan_core hybrid_bisected_N-glycan_core.iupac\n",
      "\u001b[0mcore.chemical.carbohydrates.database_io: {0} \u001b[0mhybrid_bisected_fucosylated_N-glycan_core hybrid_bisected_fucosylated_N-glycan_core.iupac\n",
      "\u001b[0mcore.chemical.carbohydrates.database_io: {0} \u001b[0mhybrid_fucosylated_N-glycan_core hybrid_fucosylated_N-glycan_core.iupac\n",
      "\u001b[0mcore.pose.carbohydrates.util: {0} \u001b[0mDelete to residue is not carbohydrate and not a branch point.  Nothing to be done.\n",
      "\u001b[0mprotocols.carbohydrates.SimpleGlycosylateMover: {0} \u001b[0mGlycosylating at 2 : 2 b-D-Galp-(1->3)-a-D-GalpNAc\n",
      "\u001b[0mcore.conformation.Conformation: {0} \u001b[0mappending residue by a chemical bond in the foldtree: 4 ->3)-alpha-D-Galp:2-AcNH anchor:  OG1    2 root:  C1\n",
      "\u001b[0mcore.pose.carbohydrates.util: {0} \u001b[0mGlycosylated pose with a(n) b-D-Galp-(1->3)-a-D-GalpNAc-OG1THR2 bond.\n",
      "\u001b[0mcore.conformation.carbohydrates.GlycanTreeSet: {0} \u001b[0mSetting up Glycan Trees\n",
      "\u001b[0mcore.conformation.carbohydrates.GlycanTreeSet: {0} \u001b[0mFound 1 glycan trees.\n",
      "\u001b[0mprotocols.carbohydrates.GlycanSampler: {0} \u001b[0minitializing objects\n",
      "\u001b[0mcore.scoring.ScoreFunctionFactory: {0} \u001b[0mSCOREFUNCTION: \u001b[32mref2015\u001b[0m\n",
      "\u001b[0mcore.scoring.etable: {0} \u001b[0mStarting energy table calculation\n",
      "\u001b[0mcore.scoring.etable: {0} \u001b[0msmooth_etable: changing atr/rep split to bottom of energy well\n",
      "\u001b[0mcore.scoring.etable: {0} \u001b[0msmooth_etable: spline smoothing lj etables (maxdis = 6)\n",
      "\u001b[0mcore.scoring.etable: {0} \u001b[0msmooth_etable: spline smoothing solvation etables (max_dis = 6)\n",
      "\u001b[0mcore.scoring.etable: {0} \u001b[0mFinished calculating energy tables.\n",
      "\u001b[0mbasic.io.database: {0} \u001b[0mDatabase file opened: scoring/score_functions/hbonds/ref2015_params/HBPoly1D.csv\n",
      "\u001b[0mbasic.io.database: {0} \u001b[0mDatabase file opened: scoring/score_functions/hbonds/ref2015_params/HBFadeIntervals.csv\n",
      "\u001b[0mbasic.io.database: {0} \u001b[0mDatabase file opened: scoring/score_functions/hbonds/ref2015_params/HBEval.csv\n",
      "\u001b[0mbasic.io.database: {0} \u001b[0mDatabase file opened: scoring/score_functions/hbonds/ref2015_params/DonStrength.csv\n",
      "\u001b[0mbasic.io.database: {0} \u001b[0mDatabase file opened: scoring/score_functions/hbonds/ref2015_params/AccStrength.csv\n",
      "\u001b[0mbasic.io.database: {0} \u001b[0mDatabase file opened: scoring/score_functions/rama/fd/all.ramaProb\n",
      "\u001b[0mbasic.io.database: {0} \u001b[0mDatabase file opened: scoring/score_functions/rama/fd/prepro.ramaProb\n",
      "\u001b[0mbasic.io.database: {0} \u001b[0mDatabase file opened: scoring/score_functions/omega/omega_ppdep.all.txt\n",
      "\u001b[0mbasic.io.database: {0} \u001b[0mDatabase file opened: scoring/score_functions/omega/omega_ppdep.gly.txt\n",
      "\u001b[0mbasic.io.database: {0} \u001b[0mDatabase file opened: scoring/score_functions/omega/omega_ppdep.pro.txt\n",
      "\u001b[0mbasic.io.database: {0} \u001b[0mDatabase file opened: scoring/score_functions/omega/omega_ppdep.valile.txt\n",
      "\u001b[0mbasic.io.database: {0} \u001b[0mDatabase file opened: scoring/score_functions/P_AA_pp/P_AA\n",
      "\u001b[0mbasic.io.database: {0} \u001b[0mDatabase file opened: scoring/score_functions/P_AA_pp/P_AA_n\n",
      "\u001b[0mcore.scoring.P_AA: {0} \u001b[0mshapovalov_lib::shap_p_aa_pp_smooth_level of 1( aka low_smooth ) got activated.\n",
      "\u001b[0mbasic.io.database: {0} \u001b[0mDatabase file opened: scoring/score_functions/P_AA_pp/shapovalov/10deg/kappa131/a20.prop\n",
      "\u001b[0mcore.scoring.ScoreFunctionFactory: {0} \u001b[0mThe -include_sugars flag was used with no sugar_bb weight set in the weights file.  Setting sugar_bb weight to 1.0 by default.\n",
      "\u001b[0mcore.scoring.ScoringManager: {0} \u001b[0mCreating CHI Energy Function.\n",
      "\u001b[0mcore.scoring.carbohydrates.CHIEnergyFunction: {0} \u001b[0mSetting up chi sampling\n",
      "\u001b[0mcore.scoring.ScoringManager: {0} \u001b[0mCreating carbohydrate omega preferences function.\n",
      "\u001b[0mcore.scoring.carbohydrates.OmegaPreferencesFunction: {0} \u001b[0mSetting up omega preference sampling\n",
      "\u001b[0mcore.scoring.ScoreFunctionFactory: {0} \u001b[0m The -include_sugars flag was used without fa_intra_rep_xover4 term in the scorefunction\n",
      ". Turning this on. It is generally recommended to use the -beta scorefunction (Rosetta-ICO) with sugars, which includes this and other desired terms such as those bridging waters\n",
      "\u001b[0mbasic.io.database: {0} \u001b[0mDatabase file opened: scoring/score_functions/elec_cp_reps.dat\n",
      "\u001b[0mcore.scoring.elec.util: {0} \u001b[0mRead 40 countpair representative atoms\n",
      "\u001b[0mcore.pack.dunbrack.RotamerLibrary: {0} \u001b[0mshapovalov_lib_fixes_enable option is true.\n",
      "\u001b[0mcore.pack.dunbrack.RotamerLibrary: {0} \u001b[0mshapovalov_lib::shap_dun10_smooth_level of 1( aka lowest_smooth ) got activated.\n",
      "\u001b[0mcore.pack.dunbrack.RotamerLibrary: {0} \u001b[0mBinary rotamer library selected: /home/souvadra/anaconda3/envs/pyrosetta_env/lib/python3.7/site-packages/pyrosetta/database/rotamer/shapovalov/StpDwn_0-0-0/Dunbrack10.lib.bin\n",
      "\u001b[0mcore.pack.dunbrack.RotamerLibrary: {0} \u001b[0mUsing Dunbrack library binary file '/home/souvadra/anaconda3/envs/pyrosetta_env/lib/python3.7/site-packages/pyrosetta/database/rotamer/shapovalov/StpDwn_0-0-0/Dunbrack10.lib.bin'.\n",
      "\u001b[0mcore.pack.dunbrack.RotamerLibrary: {0} \u001b[0mDunbrack 2010 library took 0.179697 seconds to load from binary\n"
     ]
    },
    {
     "name": "stdout",
     "output_type": "stream",
     "text": [
      "\u001b[0mprotocols.carbohydrates.GlycanSampler: {0} \u001b[0mRandomizing glycan torsions\n",
      "\u001b[0mprotocols.carbohydrates.GlycanSampler: {0} \u001b[0mModeling 2 glycan residues\n",
      "\u001b[0mprotocols.carbohydrates.GlycanSampler: {0} \u001b[0mSetting up Tree-based packing.\n",
      "\u001b[0mprotocols.carbohydrates.GlycanSampler: {0} \u001b[0mInitialized\n",
      "\u001b[0mprotocols.carbohydrates.GlycanSampler: {0} \u001b[0mstarting energy: 1004.11\n",
      "\u001b[0mprotocols.carbohydrates.GlycanSampler: {0} \u001b[0mTotal Rounds = 200 ( 2 glycans * 100 )\n",
      "\u001b[0mprotocols.carbohydrates.GlycanTreeMinMover: {0} \u001b[0mMinimizing from carbohydrate root: 5\n",
      "\u001b[0mprotocols.carbohydrates.GlycanTreeMinMover: {0} \u001b[0mMinimizing 1 residues\n",
      "\u001b[0mprotocols.carbohydrates.LinkageConformerMover: {0} \u001b[0mSampling beta-D-Galp-(?->3)-alpha-D-GalpNAc- linkage\n",
      "\u001b[0mprotocols.carbohydrates.LinkageConformerMover: {0} \u001b[0mSampling conformer 1 which has a population of 1\n",
      "\u001b[0mprotocols.carbohydrates.LinkageConformerMover: {0} \u001b[0mComplete\n",
      "\u001b[0mcore.pack.task: {0} \u001b[0mPacker task: initialize from command line()\n",
      "\u001b[0mcore.pack.pack_rotamers: {0} \u001b[0mbuilt 243 rotamers at 1 positions.\n",
      "\u001b[0mcore.pack.pack_rotamers: {0} \u001b[0mRequesting all available threads for interaction graph computation.\n",
      "\u001b[0mcore.pack.interaction_graph.interaction_graph_factory: {0} \u001b[0mInstantiating DensePDInteractionGraph\n",
      "\u001b[0mbasic.thread_manager.RosettaThreadManager: {?} \u001b[0mCreating a thread pool of 1 threads.\n",
      "\u001b[0mbasic.thread_manager.RosettaThreadPool: {?} \u001b[0mLaunched 0 new threads.\n",
      "\u001b[0mcore.pack.rotamer_set.RotamerSets: {0} \u001b[0mCompleted interaction graph pre-calculation in 1 available threads (1 had been requested).\n",
      "\u001b[0mprotocols.carbohydrates.GlycanSampler: {0} \u001b[0mRound: 10\n",
      "\u001b[0mcore.pack.task: {0} \u001b[0mPacker task: initialize from command line()\n",
      "\u001b[0mcore.pack.rotamer_set.RotamerSet_: {0} \u001b[0m\u001b[1m[ WARNING ]\u001b[0m including current in order to get at least 1 rotamer !!!!!! 2 THR:O-conjugated\n",
      "\u001b[0mcore.pack.pack_rotamers: {0} \u001b[0mbuilt 407 rotamers at 4 positions.\n",
      "\u001b[0mcore.pack.pack_rotamers: {0} \u001b[0mRequesting all available threads for interaction graph computation.\n",
      "\u001b[0mcore.pack.interaction_graph.interaction_graph_factory: {0} \u001b[0mInstantiating DensePDInteractionGraph\n",
      "\u001b[0mcore.pack.rotamer_set.RotamerSets: {0} \u001b[0mCompleted interaction graph pre-calculation in 1 available threads (1 had been requested).\n",
      "\u001b[0mprotocols.simple_moves.BackboneMover: {0} \u001b[0m\u001b[1m[ WARNING ]\u001b[0m no movable positions in ShearMover!\n",
      "\u001b[0mprotocols.carbohydrates.GlycanSampler: {0} \u001b[0mLast mover failed.  Continueing!\n",
      "\u001b[0mprotocols.simple_moves.BackboneMover: {0} \u001b[0m\u001b[1m[ WARNING ]\u001b[0m no movable positions in ShearMover!\n",
      "\u001b[0mprotocols.carbohydrates.GlycanSampler: {0} \u001b[0mLast mover failed.  Continueing!\n",
      "\u001b[0mprotocols.carbohydrates.LinkageConformerMover: {0} \u001b[0mSampling ->3)-alpha-D-GalpNAc-(?THR linkage\n",
      "\u001b[0mprotocols.carbohydrates.LinkageConformerMover: {0} \u001b[0mSampling conformer 1 which has a population of 1\n",
      "\u001b[0mprotocols.carbohydrates.LinkageConformerMover: {0} \u001b[0mComplete\n",
      "\u001b[0mprotocols.carbohydrates.GlycanSampler: {0} \u001b[0mRound: 20\n",
      "\u001b[0mcore.pack.task: {0} \u001b[0mPacker task: initialize from command line()\n",
      "\u001b[0mcore.pack.pack_rotamers: {0} \u001b[0mbuilt 243 rotamers at 1 positions.\n",
      "\u001b[0mcore.pack.pack_rotamers: {0} \u001b[0mRequesting all available threads for interaction graph computation.\n",
      "\u001b[0mcore.pack.interaction_graph.interaction_graph_factory: {0} \u001b[0mInstantiating DensePDInteractionGraph\n",
      "\u001b[0mcore.pack.rotamer_set.RotamerSets: {0} \u001b[0mCompleted interaction graph pre-calculation in 1 available threads (1 had been requested).\n",
      "\u001b[0mcore.pack.task: {0} \u001b[0mPacker task: initialize from command line()\n",
      "\u001b[0mcore.pack.rotamer_set.RotamerSet_: {0} \u001b[0m\u001b[1m[ WARNING ]\u001b[0m including current in order to get at least 1 rotamer !!!!!! 2 THR:O-conjugated\n",
      "\u001b[0mcore.pack.pack_rotamers: {0} \u001b[0mbuilt 406 rotamers at 3 positions.\n",
      "\u001b[0mcore.pack.pack_rotamers: {0} \u001b[0mRequesting all available threads for interaction graph computation.\n",
      "\u001b[0mcore.pack.interaction_graph.interaction_graph_factory: {0} \u001b[0mInstantiating DensePDInteractionGraph\n",
      "\u001b[0mcore.pack.rotamer_set.RotamerSets: {0} \u001b[0mCompleted interaction graph pre-calculation in 1 available threads (1 had been requested).\n",
      "\u001b[0mcore.pack.task: {0} \u001b[0mPacker task: initialize from command line()\n",
      "\u001b[0mcore.pack.pack_rotamers: {0} \u001b[0mbuilt 405 rotamers at 2 positions.\n",
      "\u001b[0mcore.pack.pack_rotamers: {0} \u001b[0mRequesting all available threads for interaction graph computation.\n",
      "\u001b[0mcore.pack.interaction_graph.interaction_graph_factory: {0} \u001b[0mInstantiating DensePDInteractionGraph\n",
      "\u001b[0mcore.pack.rotamer_set.RotamerSets: {0} \u001b[0mCompleted interaction graph pre-calculation in 1 available threads (1 had been requested).\n",
      "\u001b[0mcore.pack.task: {0} \u001b[0mPacker task: initialize from command line()\n",
      "\u001b[0mcore.pack.pack_rotamers: {0} \u001b[0mbuilt 405 rotamers at 2 positions.\n",
      "\u001b[0mcore.pack.pack_rotamers: {0} \u001b[0mRequesting all available threads for interaction graph computation.\n",
      "\u001b[0mcore.pack.interaction_graph.interaction_graph_factory: {0} \u001b[0mInstantiating DensePDInteractionGraph\n",
      "\u001b[0mcore.pack.rotamer_set.RotamerSets: {0} \u001b[0mCompleted interaction graph pre-calculation in 1 available threads (1 had been requested).\n",
      "\u001b[0mprotocols.carbohydrates.GlycanSampler: {0} \u001b[0mRound: 30\n",
      "\u001b[0mprotocols.carbohydrates.LinkageConformerMover: {0} \u001b[0mSampling beta-D-Galp-(?->3)-alpha-D-GalpNAc- linkage\n",
      "\u001b[0mprotocols.carbohydrates.LinkageConformerMover: {0} \u001b[0mSampling conformer 1 which has a population of 1\n",
      "\u001b[0mprotocols.carbohydrates.LinkageConformerMover: {0} \u001b[0mComplete\n",
      "\u001b[0mprotocols.carbohydrates.LinkageConformerMover: {0} \u001b[0mSampling beta-D-Galp-(?->3)-alpha-D-GalpNAc- linkage\n",
      "\u001b[0mprotocols.carbohydrates.LinkageConformerMover: {0} \u001b[0mSampling conformer 1 which has a population of 1\n",
      "\u001b[0mprotocols.carbohydrates.LinkageConformerMover: {0} \u001b[0mComplete\n",
      "\u001b[0mprotocols.carbohydrates.GlycanTreeMinMover: {0} \u001b[0mMinimizing from carbohydrate root: 5\n",
      "\u001b[0mprotocols.carbohydrates.GlycanTreeMinMover: {0} \u001b[0mMinimizing 1 residues\n",
      "\u001b[0mprotocols.simple_moves.BackboneMover: {0} \u001b[0m\u001b[1m[ WARNING ]\u001b[0m no movable positions in ShearMover!\n",
      "\u001b[0mprotocols.carbohydrates.GlycanSampler: {0} \u001b[0mLast mover failed.  Continueing!\n",
      "\u001b[0mprotocols.carbohydrates.GlycanTreeMinMover: {0} \u001b[0mMinimizing from carbohydrate root: 4\n",
      "\u001b[0mprotocols.carbohydrates.GlycanTreeMinMover: {0} \u001b[0mMinimizing 2 residues\n",
      "\u001b[0mprotocols.carbohydrates.GlycanSampler: {0} \u001b[0mRound: 40\n",
      "\u001b[0mprotocols.carbohydrates.GlycanTreeMinMover: {0} \u001b[0mMinimizing from carbohydrate root: 4\n",
      "\u001b[0mprotocols.carbohydrates.GlycanTreeMinMover: {0} \u001b[0mMinimizing 2 residues\n",
      "\u001b[0mcore.pack.task: {0} \u001b[0mPacker task: initialize from command line()\n",
      "\u001b[0mcore.pack.pack_rotamers: {0} \u001b[0mbuilt 405 rotamers at 2 positions.\n",
      "\u001b[0mcore.pack.pack_rotamers: {0} \u001b[0mRequesting all available threads for interaction graph computation.\n",
      "\u001b[0mcore.pack.interaction_graph.interaction_graph_factory: {0} \u001b[0mInstantiating DensePDInteractionGraph\n",
      "\u001b[0mcore.pack.rotamer_set.RotamerSets: {0} \u001b[0mCompleted interaction graph pre-calculation in 1 available threads (1 had been requested).\n",
      "\u001b[0mprotocols.simple_moves.BackboneMover: {0} \u001b[0m\u001b[1m[ WARNING ]\u001b[0m no movable positions in ShearMover!\n",
      "\u001b[0mprotocols.carbohydrates.GlycanSampler: {0} \u001b[0mLast mover failed.  Continueing!\n",
      "\u001b[0mprotocols.carbohydrates.LinkageConformerMover: {0} \u001b[0mSampling ->3)-alpha-D-GalpNAc-(?THR linkage\n",
      "\u001b[0mprotocols.carbohydrates.LinkageConformerMover: {0} \u001b[0mSampling conformer 1 which has a population of 1\n",
      "\u001b[0mprotocols.carbohydrates.LinkageConformerMover: {0} \u001b[0mComplete\n",
      "\u001b[0mprotocols.carbohydrates.GlycanSampler: {0} \u001b[0mRound: 50\n",
      "\u001b[0mprotocols.simple_moves.BackboneMover: {0} \u001b[0m\u001b[1m[ WARNING ]\u001b[0m no movable positions in ShearMover!\n",
      "\u001b[0mprotocols.carbohydrates.GlycanSampler: {0} \u001b[0mLast mover failed.  Continueing!\n",
      "\u001b[0mprotocols.carbohydrates.LinkageConformerMover: {0} \u001b[0mSampling ->3)-alpha-D-GalpNAc-(?THR linkage\n",
      "\u001b[0mprotocols.carbohydrates.LinkageConformerMover: {0} \u001b[0mSampling conformer 1 which has a population of 1\n",
      "\u001b[0mprotocols.carbohydrates.LinkageConformerMover: {0} \u001b[0mComplete\n",
      "\u001b[0mprotocols.carbohydrates.LinkageConformerMover: {0} \u001b[0mSampling ->3)-alpha-D-GalpNAc-(?THR linkage\n",
      "\u001b[0mprotocols.carbohydrates.LinkageConformerMover: {0} \u001b[0mSampling conformer 1 which has a population of 1\n"
     ]
    },
    {
     "name": "stdout",
     "output_type": "stream",
     "text": [
      "\u001b[0mprotocols.carbohydrates.LinkageConformerMover: {0} \u001b[0mComplete\n",
      "\u001b[0mprotocols.carbohydrates.GlycanSampler: {0} \u001b[0mRound: 60\n",
      "\u001b[0mprotocols.simple_moves.BackboneMover: {0} \u001b[0m\u001b[1m[ WARNING ]\u001b[0m no movable positions in ShearMover!\n",
      "\u001b[0mprotocols.carbohydrates.GlycanSampler: {0} \u001b[0mLast mover failed.  Continueing!\n",
      "\u001b[0mcore.pack.task: {0} \u001b[0mPacker task: initialize from command line()\n",
      "\u001b[0mcore.pack.rotamer_set.RotamerSet_: {0} \u001b[0m\u001b[1m[ WARNING ]\u001b[0m including current in order to get at least 1 rotamer !!!!!! 2 THR:O-conjugated\n",
      "\u001b[0mcore.pack.pack_rotamers: {0} \u001b[0mbuilt 406 rotamers at 3 positions.\n",
      "\u001b[0mcore.pack.pack_rotamers: {0} \u001b[0mRequesting all available threads for interaction graph computation.\n",
      "\u001b[0mcore.pack.interaction_graph.interaction_graph_factory: {0} \u001b[0mInstantiating DensePDInteractionGraph\n",
      "\u001b[0mcore.pack.rotamer_set.RotamerSets: {0} \u001b[0mCompleted interaction graph pre-calculation in 1 available threads (1 had been requested).\n",
      "\u001b[0mprotocols.simple_moves.BackboneMover: {0} \u001b[0m\u001b[1m[ WARNING ]\u001b[0m no movable positions in ShearMover!\n",
      "\u001b[0mprotocols.carbohydrates.GlycanSampler: {0} \u001b[0mLast mover failed.  Continueing!\n",
      "\u001b[0mprotocols.simple_moves.BackboneMover: {0} \u001b[0m\u001b[1m[ WARNING ]\u001b[0m no movable positions in ShearMover!\n",
      "\u001b[0mprotocols.carbohydrates.GlycanSampler: {0} \u001b[0mLast mover failed.  Continueing!\n",
      "\u001b[0mcore.pack.task: {0} \u001b[0mPacker task: initialize from command line()\n",
      "\u001b[0mcore.pack.rotamer_set.RotamerSet_: {0} \u001b[0m\u001b[1m[ WARNING ]\u001b[0m including current in order to get at least 1 rotamer !!!!!! 2 THR:O-conjugated\n",
      "\u001b[0mcore.pack.pack_rotamers: {0} \u001b[0mbuilt 406 rotamers at 3 positions.\n",
      "\u001b[0mcore.pack.pack_rotamers: {0} \u001b[0mRequesting all available threads for interaction graph computation.\n",
      "\u001b[0mcore.pack.interaction_graph.interaction_graph_factory: {0} \u001b[0mInstantiating DensePDInteractionGraph\n",
      "\u001b[0mcore.pack.rotamer_set.RotamerSets: {0} \u001b[0mCompleted interaction graph pre-calculation in 1 available threads (1 had been requested).\n",
      "\u001b[0mprotocols.carbohydrates.GlycanTreeMinMover: {0} \u001b[0mMinimizing from carbohydrate root: 5\n",
      "\u001b[0mprotocols.carbohydrates.GlycanTreeMinMover: {0} \u001b[0mMinimizing 1 residues\n",
      "\u001b[0mprotocols.carbohydrates.GlycanSampler: {0} \u001b[0mRound: 70\n",
      "\u001b[0mprotocols.simple_moves.BackboneMover: {0} \u001b[0m\u001b[1m[ WARNING ]\u001b[0m no movable positions in ShearMover!\n",
      "\u001b[0mprotocols.carbohydrates.GlycanSampler: {0} \u001b[0mLast mover failed.  Continueing!\n",
      "\u001b[0mprotocols.carbohydrates.LinkageConformerMover: {0} \u001b[0mSampling beta-D-Galp-(?->3)-alpha-D-GalpNAc- linkage\n",
      "\u001b[0mprotocols.carbohydrates.LinkageConformerMover: {0} \u001b[0mSampling conformer 1 which has a population of 1\n",
      "\u001b[0mprotocols.carbohydrates.LinkageConformerMover: {0} \u001b[0mComplete\n",
      "\u001b[0mcore.pack.task: {0} \u001b[0mPacker task: initialize from command line()\n",
      "\u001b[0mcore.pack.rotamer_set.RotamerSet_: {0} \u001b[0m\u001b[1m[ WARNING ]\u001b[0m including current in order to get at least 1 rotamer !!!!!! 2 THR:O-conjugated\n",
      "\u001b[0mcore.pack.pack_rotamers: {0} \u001b[0mbuilt 406 rotamers at 3 positions.\n",
      "\u001b[0mcore.pack.pack_rotamers: {0} \u001b[0mRequesting all available threads for interaction graph computation.\n",
      "\u001b[0mcore.pack.interaction_graph.interaction_graph_factory: {0} \u001b[0mInstantiating DensePDInteractionGraph\n",
      "\u001b[0mcore.pack.rotamer_set.RotamerSets: {0} \u001b[0mCompleted interaction graph pre-calculation in 1 available threads (1 had been requested).\n",
      "\u001b[0mprotocols.carbohydrates.LinkageConformerMover: {0} \u001b[0mSampling ->3)-alpha-D-GalpNAc-(?THR linkage\n",
      "\u001b[0mprotocols.carbohydrates.LinkageConformerMover: {0} \u001b[0mSampling conformer 1 which has a population of 1\n",
      "\u001b[0mprotocols.carbohydrates.LinkageConformerMover: {0} \u001b[0mComplete\n",
      "\u001b[0mprotocols.simple_moves.BackboneMover: {0} \u001b[0m\u001b[1m[ WARNING ]\u001b[0m no movable positions in ShearMover!\n",
      "\u001b[0mprotocols.carbohydrates.GlycanSampler: {0} \u001b[0mLast mover failed.  Continueing!\n",
      "\u001b[0mprotocols.carbohydrates.GlycanSampler: {0} \u001b[0mRound: 80\n",
      "\u001b[0mprotocols.carbohydrates.LinkageConformerMover: {0} \u001b[0mSampling beta-D-Galp-(?->3)-alpha-D-GalpNAc- linkage\n",
      "\u001b[0mprotocols.carbohydrates.LinkageConformerMover: {0} \u001b[0mSampling conformer 1 which has a population of 1\n",
      "\u001b[0mprotocols.carbohydrates.LinkageConformerMover: {0} \u001b[0mComplete\n",
      "\u001b[0mprotocols.carbohydrates.GlycanTreeMinMover: {0} \u001b[0mMinimizing from carbohydrate root: 4\n",
      "\u001b[0mprotocols.carbohydrates.GlycanTreeMinMover: {0} \u001b[0mMinimizing 2 residues\n",
      "\u001b[0mprotocols.simple_moves.BackboneMover: {0} \u001b[0m\u001b[1m[ WARNING ]\u001b[0m no movable positions in ShearMover!\n",
      "\u001b[0mprotocols.carbohydrates.GlycanSampler: {0} \u001b[0mLast mover failed.  Continueing!\n",
      "\u001b[0mprotocols.carbohydrates.LinkageConformerMover: {0} \u001b[0mSampling ->3)-alpha-D-GalpNAc-(?THR linkage\n",
      "\u001b[0mprotocols.carbohydrates.LinkageConformerMover: {0} \u001b[0mSampling conformer 1 which has a population of 1\n",
      "\u001b[0mprotocols.carbohydrates.LinkageConformerMover: {0} \u001b[0mComplete\n",
      "\u001b[0mprotocols.carbohydrates.LinkageConformerMover: {0} \u001b[0mSampling ->3)-alpha-D-GalpNAc-(?THR linkage\n",
      "\u001b[0mprotocols.carbohydrates.LinkageConformerMover: {0} \u001b[0mSampling conformer 1 which has a population of 1\n",
      "\u001b[0mprotocols.carbohydrates.LinkageConformerMover: {0} \u001b[0mComplete\n",
      "\u001b[0mprotocols.carbohydrates.GlycanSampler: {0} \u001b[0mRound: 90\n",
      "\u001b[0mprotocols.carbohydrates.LinkageConformerMover: {0} \u001b[0mSampling ->3)-alpha-D-GalpNAc-(?THR linkage\n",
      "\u001b[0mprotocols.carbohydrates.LinkageConformerMover: {0} \u001b[0mSampling conformer 1 which has a population of 1\n",
      "\u001b[0mprotocols.carbohydrates.LinkageConformerMover: {0} \u001b[0mComplete\n",
      "\u001b[0mprotocols.carbohydrates.LinkageConformerMover: {0} \u001b[0mSampling beta-D-Galp-(?->3)-alpha-D-GalpNAc- linkage\n",
      "\u001b[0mprotocols.carbohydrates.LinkageConformerMover: {0} \u001b[0mSampling conformer 1 which has a population of 1\n",
      "\u001b[0mprotocols.carbohydrates.LinkageConformerMover: {0} \u001b[0mComplete\n",
      "\u001b[0mprotocols.carbohydrates.LinkageConformerMover: {0} \u001b[0mSampling ->3)-alpha-D-GalpNAc-(?THR linkage\n",
      "\u001b[0mprotocols.carbohydrates.LinkageConformerMover: {0} \u001b[0mSampling conformer 1 which has a population of 1\n",
      "\u001b[0mprotocols.carbohydrates.LinkageConformerMover: {0} \u001b[0mComplete\n",
      "\u001b[0mcore.pack.task: {0} \u001b[0mPacker task: initialize from command line()\n",
      "\u001b[0mcore.pack.pack_rotamers: {0} \u001b[0mbuilt 405 rotamers at 2 positions.\n",
      "\u001b[0mcore.pack.pack_rotamers: {0} \u001b[0mRequesting all available threads for interaction graph computation.\n",
      "\u001b[0mcore.pack.interaction_graph.interaction_graph_factory: {0} \u001b[0mInstantiating DensePDInteractionGraph\n",
      "\u001b[0mcore.pack.rotamer_set.RotamerSets: {0} \u001b[0mCompleted interaction graph pre-calculation in 1 available threads (1 had been requested).\n",
      "\u001b[0mprotocols.carbohydrates.LinkageConformerMover: {0} \u001b[0mSampling ->3)-alpha-D-GalpNAc-(?THR linkage\n",
      "\u001b[0mprotocols.carbohydrates.LinkageConformerMover: {0} \u001b[0mSampling conformer 1 which has a population of 1\n",
      "\u001b[0mprotocols.carbohydrates.LinkageConformerMover: {0} \u001b[0mComplete\n",
      "\u001b[0mprotocols.carbohydrates.GlycanSampler: {0} \u001b[0mRound: 100\n",
      "\u001b[0mprotocols.simple_moves.BackboneMover: {0} \u001b[0m\u001b[1m[ WARNING ]\u001b[0m no movable positions in ShearMover!\n",
      "\u001b[0mprotocols.carbohydrates.GlycanSampler: {0} \u001b[0mLast mover failed.  Continueing!\n",
      "\u001b[0mprotocols.carbohydrates.LinkageConformerMover: {0} \u001b[0mSampling ->3)-alpha-D-GalpNAc-(?THR linkage\n",
      "\u001b[0mprotocols.carbohydrates.LinkageConformerMover: {0} \u001b[0mSampling conformer 1 which has a population of 1\n",
      "\u001b[0mprotocols.carbohydrates.LinkageConformerMover: {0} \u001b[0mComplete\n",
      "\u001b[0mprotocols.carbohydrates.LinkageConformerMover: {0} \u001b[0mSampling beta-D-Galp-(?->3)-alpha-D-GalpNAc- linkage\n",
      "\u001b[0mprotocols.carbohydrates.LinkageConformerMover: {0} \u001b[0mSampling conformer 1 which has a population of 1\n",
      "\u001b[0mprotocols.carbohydrates.LinkageConformerMover: {0} \u001b[0mComplete\n",
      "\u001b[0mprotocols.carbohydrates.LinkageConformerMover: {0} \u001b[0mSampling beta-D-Galp-(?->3)-alpha-D-GalpNAc- linkage\n",
      "\u001b[0mprotocols.carbohydrates.LinkageConformerMover: {0} \u001b[0mSampling conformer 1 which has a population of 1\n",
      "\u001b[0mprotocols.carbohydrates.LinkageConformerMover: {0} \u001b[0mComplete\n",
      "\u001b[0mprotocols.carbohydrates.GlycanSampler: {0} \u001b[0mRound: 110\n",
      "\u001b[0mprotocols.carbohydrates.GlycanTreeMinMover: {0} \u001b[0mMinimizing from carbohydrate root: 4\n",
      "\u001b[0mprotocols.carbohydrates.GlycanTreeMinMover: {0} \u001b[0mMinimizing 2 residues\n",
      "\u001b[0mprotocols.carbohydrates.GlycanTreeMinMover: {0} \u001b[0mMinimizing from carbohydrate root: 5\n",
      "\u001b[0mprotocols.carbohydrates.GlycanTreeMinMover: {0} \u001b[0mMinimizing 1 residues\n"
     ]
    },
    {
     "name": "stdout",
     "output_type": "stream",
     "text": [
      "\u001b[0mprotocols.simple_moves.BackboneMover: {0} \u001b[0m\u001b[1m[ WARNING ]\u001b[0m no movable positions in ShearMover!\n",
      "\u001b[0mprotocols.carbohydrates.GlycanSampler: {0} \u001b[0mLast mover failed.  Continueing!\n",
      "\u001b[0mprotocols.carbohydrates.GlycanTreeMinMover: {0} \u001b[0mMinimizing from carbohydrate root: 5\n",
      "\u001b[0mprotocols.carbohydrates.GlycanTreeMinMover: {0} \u001b[0mMinimizing 1 residues\n",
      "\u001b[0mprotocols.carbohydrates.GlycanSampler: {0} \u001b[0mRound: 120\n",
      "\u001b[0mprotocols.carbohydrates.GlycanTreeMinMover: {0} \u001b[0mMinimizing from carbohydrate root: 4\n",
      "\u001b[0mprotocols.carbohydrates.GlycanTreeMinMover: {0} \u001b[0mMinimizing 2 residues\n",
      "\u001b[0mcore.pack.task: {0} \u001b[0mPacker task: initialize from command line()\n",
      "\u001b[0mcore.pack.pack_rotamers: {0} \u001b[0mbuilt 405 rotamers at 2 positions.\n",
      "\u001b[0mcore.pack.pack_rotamers: {0} \u001b[0mRequesting all available threads for interaction graph computation.\n",
      "\u001b[0mcore.pack.interaction_graph.interaction_graph_factory: {0} \u001b[0mInstantiating DensePDInteractionGraph\n",
      "\u001b[0mcore.pack.rotamer_set.RotamerSets: {0} \u001b[0mCompleted interaction graph pre-calculation in 1 available threads (1 had been requested).\n",
      "\u001b[0mprotocols.carbohydrates.LinkageConformerMover: {0} \u001b[0mSampling beta-D-Galp-(?->3)-alpha-D-GalpNAc- linkage\n",
      "\u001b[0mprotocols.carbohydrates.LinkageConformerMover: {0} \u001b[0mSampling conformer 1 which has a population of 1\n",
      "\u001b[0mprotocols.carbohydrates.LinkageConformerMover: {0} \u001b[0mComplete\n",
      "\u001b[0mprotocols.carbohydrates.GlycanTreeMinMover: {0} \u001b[0mMinimizing from carbohydrate root: 4\n",
      "\u001b[0mprotocols.carbohydrates.GlycanTreeMinMover: {0} \u001b[0mMinimizing 2 residues\n",
      "\u001b[0mcore.pack.task: {0} \u001b[0mPacker task: initialize from command line()\n",
      "\u001b[0mcore.pack.pack_rotamers: {0} \u001b[0mbuilt 405 rotamers at 2 positions.\n",
      "\u001b[0mcore.pack.pack_rotamers: {0} \u001b[0mRequesting all available threads for interaction graph computation.\n",
      "\u001b[0mcore.pack.interaction_graph.interaction_graph_factory: {0} \u001b[0mInstantiating DensePDInteractionGraph\n",
      "\u001b[0mcore.pack.rotamer_set.RotamerSets: {0} \u001b[0mCompleted interaction graph pre-calculation in 1 available threads (1 had been requested).\n",
      "\u001b[0mprotocols.carbohydrates.GlycanSampler: {0} \u001b[0mRound: 130\n",
      "\u001b[0mprotocols.carbohydrates.LinkageConformerMover: {0} \u001b[0mSampling ->3)-alpha-D-GalpNAc-(?THR linkage\n",
      "\u001b[0mprotocols.carbohydrates.LinkageConformerMover: {0} \u001b[0mSampling conformer 1 which has a population of 1\n",
      "\u001b[0mprotocols.carbohydrates.LinkageConformerMover: {0} \u001b[0mComplete\n",
      "\u001b[0mprotocols.carbohydrates.LinkageConformerMover: {0} \u001b[0mSampling beta-D-Galp-(?->3)-alpha-D-GalpNAc- linkage\n",
      "\u001b[0mprotocols.carbohydrates.LinkageConformerMover: {0} \u001b[0mSampling conformer 1 which has a population of 1\n",
      "\u001b[0mprotocols.carbohydrates.LinkageConformerMover: {0} \u001b[0mComplete\n",
      "\u001b[0mprotocols.simple_moves.BackboneMover: {0} \u001b[0m\u001b[1m[ WARNING ]\u001b[0m no movable positions in ShearMover!\n",
      "\u001b[0mprotocols.carbohydrates.GlycanSampler: {0} \u001b[0mLast mover failed.  Continueing!\n",
      "\u001b[0mprotocols.carbohydrates.GlycanSampler: {0} \u001b[0mRound: 140\n",
      "\u001b[0mprotocols.carbohydrates.LinkageConformerMover: {0} \u001b[0mSampling ->3)-alpha-D-GalpNAc-(?THR linkage\n",
      "\u001b[0mprotocols.carbohydrates.LinkageConformerMover: {0} \u001b[0mSampling conformer 1 which has a population of 1\n",
      "\u001b[0mprotocols.carbohydrates.LinkageConformerMover: {0} \u001b[0mComplete\n",
      "\u001b[0mprotocols.carbohydrates.LinkageConformerMover: {0} \u001b[0mSampling ->3)-alpha-D-GalpNAc-(?THR linkage\n",
      "\u001b[0mprotocols.carbohydrates.LinkageConformerMover: {0} \u001b[0mSampling conformer 1 which has a population of 1\n",
      "\u001b[0mprotocols.carbohydrates.LinkageConformerMover: {0} \u001b[0mComplete\n",
      "\u001b[0mprotocols.carbohydrates.LinkageConformerMover: {0} \u001b[0mSampling beta-D-Galp-(?->3)-alpha-D-GalpNAc- linkage\n",
      "\u001b[0mprotocols.carbohydrates.LinkageConformerMover: {0} \u001b[0mSampling conformer 1 which has a population of 1\n",
      "\u001b[0mprotocols.carbohydrates.LinkageConformerMover: {0} \u001b[0mComplete\n",
      "\u001b[0mprotocols.carbohydrates.LinkageConformerMover: {0} \u001b[0mSampling beta-D-Galp-(?->3)-alpha-D-GalpNAc- linkage\n",
      "\u001b[0mprotocols.carbohydrates.LinkageConformerMover: {0} \u001b[0mSampling conformer 1 which has a population of 1\n",
      "\u001b[0mprotocols.carbohydrates.LinkageConformerMover: {0} \u001b[0mComplete\n",
      "\u001b[0mprotocols.carbohydrates.GlycanSampler: {0} \u001b[0mRound: 150\n",
      "\u001b[0mprotocols.simple_moves.BackboneMover: {0} \u001b[0m\u001b[1m[ WARNING ]\u001b[0m no movable positions in ShearMover!\n",
      "\u001b[0mprotocols.carbohydrates.GlycanSampler: {0} \u001b[0mLast mover failed.  Continueing!\n",
      "\u001b[0mprotocols.carbohydrates.LinkageConformerMover: {0} \u001b[0mSampling beta-D-Galp-(?->3)-alpha-D-GalpNAc- linkage\n",
      "\u001b[0mprotocols.carbohydrates.LinkageConformerMover: {0} \u001b[0mSampling conformer 1 which has a population of 1\n",
      "\u001b[0mprotocols.carbohydrates.LinkageConformerMover: {0} \u001b[0mComplete\n",
      "\u001b[0mcore.pack.task: {0} \u001b[0mPacker task: initialize from command line()\n",
      "\u001b[0mcore.pack.rotamer_set.RotamerSet_: {0} \u001b[0m\u001b[1m[ WARNING ]\u001b[0m including current in order to get at least 1 rotamer !!!!!! 2 THR:O-conjugated\n",
      "\u001b[0mcore.pack.pack_rotamers: {0} \u001b[0mbuilt 406 rotamers at 3 positions.\n",
      "\u001b[0mcore.pack.pack_rotamers: {0} \u001b[0mRequesting all available threads for interaction graph computation.\n",
      "\u001b[0mcore.pack.interaction_graph.interaction_graph_factory: {0} \u001b[0mInstantiating DensePDInteractionGraph\n",
      "\u001b[0mcore.pack.rotamer_set.RotamerSets: {0} \u001b[0mCompleted interaction graph pre-calculation in 1 available threads (1 had been requested).\n",
      "\u001b[0mprotocols.carbohydrates.GlycanTreeMinMover: {0} \u001b[0mMinimizing from carbohydrate root: 4\n",
      "\u001b[0mprotocols.carbohydrates.GlycanTreeMinMover: {0} \u001b[0mMinimizing 2 residues\n",
      "\u001b[0mprotocols.carbohydrates.LinkageConformerMover: {0} \u001b[0mSampling ->3)-alpha-D-GalpNAc-(?THR linkage\n",
      "\u001b[0mprotocols.carbohydrates.LinkageConformerMover: {0} \u001b[0mSampling conformer 1 which has a population of 1\n",
      "\u001b[0mprotocols.carbohydrates.LinkageConformerMover: {0} \u001b[0mComplete\n",
      "\u001b[0mprotocols.carbohydrates.GlycanSampler: {0} \u001b[0mRound: 160\n",
      "\u001b[0mprotocols.carbohydrates.LinkageConformerMover: {0} \u001b[0mSampling beta-D-Galp-(?->3)-alpha-D-GalpNAc- linkage\n",
      "\u001b[0mprotocols.carbohydrates.LinkageConformerMover: {0} \u001b[0mSampling conformer 1 which has a population of 1\n",
      "\u001b[0mprotocols.carbohydrates.LinkageConformerMover: {0} \u001b[0mComplete\n",
      "\u001b[0mprotocols.carbohydrates.GlycanTreeMinMover: {0} \u001b[0mMinimizing from carbohydrate root: 4\n",
      "\u001b[0mprotocols.carbohydrates.GlycanTreeMinMover: {0} \u001b[0mMinimizing 2 residues\n",
      "\u001b[0mprotocols.carbohydrates.GlycanTreeMinMover: {0} \u001b[0mMinimizing from carbohydrate root: 4\n",
      "\u001b[0mprotocols.carbohydrates.GlycanTreeMinMover: {0} \u001b[0mMinimizing 2 residues\n",
      "\u001b[0mprotocols.carbohydrates.GlycanTreeMinMover: {0} \u001b[0mMinimizing from carbohydrate root: 4\n",
      "\u001b[0mprotocols.carbohydrates.GlycanTreeMinMover: {0} \u001b[0mMinimizing 2 residues\n",
      "\u001b[0mcore.pack.task: {0} \u001b[0mPacker task: initialize from command line()\n",
      "\u001b[0mcore.pack.pack_rotamers: {0} \u001b[0mbuilt 405 rotamers at 2 positions.\n",
      "\u001b[0mcore.pack.pack_rotamers: {0} \u001b[0mRequesting all available threads for interaction graph computation.\n",
      "\u001b[0mcore.pack.interaction_graph.interaction_graph_factory: {0} \u001b[0mInstantiating DensePDInteractionGraph\n",
      "\u001b[0mcore.pack.rotamer_set.RotamerSets: {0} \u001b[0mCompleted interaction graph pre-calculation in 1 available threads (1 had been requested).\n",
      "\u001b[0mprotocols.carbohydrates.GlycanTreeMinMover: {0} \u001b[0mMinimizing from carbohydrate root: 4\n",
      "\u001b[0mprotocols.carbohydrates.GlycanTreeMinMover: {0} \u001b[0mMinimizing 2 residues\n",
      "\u001b[0mprotocols.simple_moves.BackboneMover: {0} \u001b[0m\u001b[1m[ WARNING ]\u001b[0m no movable positions in ShearMover!\n",
      "\u001b[0mprotocols.carbohydrates.GlycanSampler: {0} \u001b[0mLast mover failed.  Continueing!\n",
      "\u001b[0mprotocols.carbohydrates.GlycanSampler: {0} \u001b[0mRound: 170\n",
      "\u001b[0mprotocols.carbohydrates.GlycanTreeMinMover: {0} \u001b[0mMinimizing from carbohydrate root: 4\n",
      "\u001b[0mprotocols.carbohydrates.GlycanTreeMinMover: {0} \u001b[0mMinimizing 2 residues\n",
      "\u001b[0mprotocols.carbohydrates.LinkageConformerMover: {0} \u001b[0mSampling beta-D-Galp-(?->3)-alpha-D-GalpNAc- linkage\n",
      "\u001b[0mprotocols.carbohydrates.LinkageConformerMover: {0} \u001b[0mSampling conformer 1 which has a population of 1\n",
      "\u001b[0mprotocols.carbohydrates.LinkageConformerMover: {0} \u001b[0mComplete\n",
      "\u001b[0mprotocols.carbohydrates.GlycanTreeMinMover: {0} \u001b[0mMinimizing from carbohydrate root: 5\n",
      "\u001b[0mprotocols.carbohydrates.GlycanTreeMinMover: {0} \u001b[0mMinimizing 1 residues\n",
      "\u001b[0mprotocols.carbohydrates.GlycanSampler: {0} \u001b[0mRound: 180\n",
      "\u001b[0mprotocols.simple_moves.BackboneMover: {0} \u001b[0m\u001b[1m[ WARNING ]\u001b[0m no movable positions in ShearMover!\n"
     ]
    },
    {
     "name": "stdout",
     "output_type": "stream",
     "text": [
      "\u001b[0mprotocols.carbohydrates.GlycanSampler: {0} \u001b[0mLast mover failed.  Continueing!\n",
      "\u001b[0mprotocols.simple_moves.BackboneMover: {0} \u001b[0m\u001b[1m[ WARNING ]\u001b[0m no movable positions in ShearMover!\n",
      "\u001b[0mprotocols.carbohydrates.GlycanSampler: {0} \u001b[0mLast mover failed.  Continueing!\n",
      "\u001b[0mprotocols.carbohydrates.GlycanTreeMinMover: {0} \u001b[0mMinimizing from carbohydrate root: 4\n",
      "\u001b[0mprotocols.carbohydrates.GlycanTreeMinMover: {0} \u001b[0mMinimizing 2 residues\n",
      "\u001b[0mprotocols.simple_moves.BackboneMover: {0} \u001b[0m\u001b[1m[ WARNING ]\u001b[0m no movable positions in ShearMover!\n",
      "\u001b[0mprotocols.carbohydrates.GlycanSampler: {0} \u001b[0mLast mover failed.  Continueing!\n",
      "\u001b[0mprotocols.carbohydrates.GlycanTreeMinMover: {0} \u001b[0mMinimizing from carbohydrate root: 4\n",
      "\u001b[0mprotocols.carbohydrates.GlycanTreeMinMover: {0} \u001b[0mMinimizing 2 residues\n",
      "\u001b[0mprotocols.simple_moves.BackboneMover: {0} \u001b[0m\u001b[1m[ WARNING ]\u001b[0m no movable positions in ShearMover!\n",
      "\u001b[0mprotocols.carbohydrates.GlycanSampler: {0} \u001b[0mLast mover failed.  Continueing!\n",
      "\u001b[0mprotocols.carbohydrates.GlycanSampler: {0} \u001b[0mRound: 190\n",
      "\u001b[0mprotocols.carbohydrates.LinkageConformerMover: {0} \u001b[0mSampling beta-D-Galp-(?->3)-alpha-D-GalpNAc- linkage\n",
      "\u001b[0mprotocols.carbohydrates.LinkageConformerMover: {0} \u001b[0mSampling conformer 1 which has a population of 1\n",
      "\u001b[0mprotocols.carbohydrates.LinkageConformerMover: {0} \u001b[0mComplete\n",
      "\u001b[0mprotocols.carbohydrates.LinkageConformerMover: {0} \u001b[0mSampling ->3)-alpha-D-GalpNAc-(?THR linkage\n",
      "\u001b[0mprotocols.carbohydrates.LinkageConformerMover: {0} \u001b[0mSampling conformer 1 which has a population of 1\n",
      "\u001b[0mprotocols.carbohydrates.LinkageConformerMover: {0} \u001b[0mComplete\n",
      "\u001b[0mcore.pack.task: {0} \u001b[0mPacker task: initialize from command line()\n",
      "\u001b[0mcore.pack.pack_rotamers: {0} \u001b[0mbuilt 405 rotamers at 2 positions.\n",
      "\u001b[0mcore.pack.pack_rotamers: {0} \u001b[0mRequesting all available threads for interaction graph computation.\n",
      "\u001b[0mcore.pack.interaction_graph.interaction_graph_factory: {0} \u001b[0mInstantiating DensePDInteractionGraph\n",
      "\u001b[0mcore.pack.rotamer_set.RotamerSets: {0} \u001b[0mCompleted interaction graph pre-calculation in 1 available threads (1 had been requested).\n",
      "\u001b[0mprotocols.carbohydrates.LinkageConformerMover: {0} \u001b[0mSampling beta-D-Galp-(?->3)-alpha-D-GalpNAc- linkage\n",
      "\u001b[0mprotocols.carbohydrates.LinkageConformerMover: {0} \u001b[0mSampling conformer 1 which has a population of 1\n",
      "\u001b[0mprotocols.carbohydrates.LinkageConformerMover: {0} \u001b[0mComplete\n",
      "\u001b[0mprotocols.carbohydrates.GlycanTreeMinMover: {0} \u001b[0mMinimizing from carbohydrate root: 5\n",
      "\u001b[0mprotocols.carbohydrates.GlycanTreeMinMover: {0} \u001b[0mMinimizing 1 residues\n",
      "\u001b[0mprotocols.carbohydrates.GlycanSampler: {0} \u001b[0mRound: 200\n",
      "\u001b[0mprotocols.carbohydrates.GlycanSampler: {0} \u001b[0menergy start: 1004.11\n",
      "\u001b[0mprotocols.carbohydrates.GlycanSampler: {0} \u001b[0menergy final: 261.6\n",
      "\u001b[0mprotocols.simple_moves.BackboneMover: {0} \u001b[0m\u001b[1m[ WARNING ]\u001b[0m no movable positions in ShearMover!\n",
      "\u001b[0mprotocols.simple_moves.BackboneMover: {0} \u001b[0m\u001b[1m[ WARNING ]\u001b[0m no movable positions in ShearMover!\n",
      "\u001b[0mprotocols.simple_moves.BackboneMover: {0} \u001b[0m\u001b[1m[ WARNING ]\u001b[0m no movable positions in ShearMover!\n",
      "\u001b[0mprotocols.simple_moves.BackboneMover: {0} \u001b[0m\u001b[1m[ WARNING ]\u001b[0m no movable positions in ShearMover!\n",
      "\u001b[0mprotocols.simple_moves.BackboneMover: {0} \u001b[0m\u001b[1m[ WARNING ]\u001b[0m no movable positions in ShearMover!\n",
      "\u001b[0mprotocols.simple_moves.BackboneMover: {0} \u001b[0m\u001b[1m[ WARNING ]\u001b[0m no movable positions in ShearMover!\n",
      "\u001b[0mprotocols.simple_moves.BackboneMover: {0} \u001b[0m\u001b[1m[ WARNING ]\u001b[0m no movable positions in ShearMover!\n",
      "\u001b[0mprotocols.simple_moves.BackboneMover: {0} \u001b[0m\u001b[1m[ WARNING ]\u001b[0m no movable positions in ShearMover!\n",
      "\u001b[0mprotocols.simple_moves.BackboneMover: {0} \u001b[0m\u001b[1m[ WARNING ]\u001b[0m no movable positions in ShearMover!\n",
      "\u001b[0mprotocols.simple_moves.BackboneMover: {0} \u001b[0m\u001b[1m[ WARNING ]\u001b[0m no movable positions in ShearMover!\n",
      "\u001b[0mprotocols.simple_moves.BackboneMover: {0} \u001b[0m\u001b[1m[ WARNING ]\u001b[0m no movable positions in ShearMover!\n",
      "\u001b[0mprotocols.simple_moves.BackboneMover: {0} \u001b[0m\u001b[1m[ WARNING ]\u001b[0m no movable positions in ShearMover!\n",
      "\u001b[0mprotocols.simple_moves.BackboneMover: {0} \u001b[0m\u001b[1m[ WARNING ]\u001b[0m no movable positions in ShearMover!\n",
      "\u001b[0mprotocols.simple_moves.BackboneMover: {0} \u001b[0m\u001b[1m[ WARNING ]\u001b[0m no movable positions in ShearMover!\n",
      "\u001b[0mprotocols.simple_moves.BackboneMover: {0} \u001b[0m\u001b[1m[ WARNING ]\u001b[0m no movable positions in ShearMover!\n",
      "\u001b[0mprotocols.simple_moves.BackboneMover: {0} \u001b[0m\u001b[1m[ WARNING ]\u001b[0m no movable positions in ShearMover!\n",
      "\u001b[0mprotocols.simple_moves.BackboneMover: {0} \u001b[0m\u001b[1m[ WARNING ]\u001b[0m no movable positions in ShearMover!\n",
      "\u001b[0mprotocols.simple_moves.BackboneMover: {0} \u001b[0m\u001b[1m[ WARNING ]\u001b[0m no movable positions in ShearMover!\n",
      "\u001b[0mprotocols.simple_moves.BackboneMover: {0} \u001b[0m\u001b[1m[ WARNING ]\u001b[0m no movable positions in ShearMover!\n",
      "\u001b[0mprotocols.simple_moves.BackboneMover: {0} \u001b[0m\u001b[1m[ WARNING ]\u001b[0m no movable positions in ShearMover!\n",
      "\u001b[0mprotocols.simple_moves.BackboneMover: {0} \u001b[0m\u001b[1m[ WARNING ]\u001b[0m no movable positions in ShearMover!\n",
      "\u001b[0mprotocols.simple_moves.BackboneMover: {0} \u001b[0m\u001b[1m[ WARNING ]\u001b[0m no movable positions in ShearMover!\n",
      "\u001b[0mprotocols.simple_moves.BackboneMover: {0} \u001b[0m\u001b[1m[ WARNING ]\u001b[0m no movable positions in ShearMover!\n",
      "\u001b[0mprotocols.simple_moves.BackboneMover: {0} \u001b[0m\u001b[1m[ WARNING ]\u001b[0m no movable positions in ShearMover!\n",
      "\u001b[0mprotocols.simple_moves.BackboneMover: {0} \u001b[0m\u001b[1m[ WARNING ]\u001b[0m no movable positions in ShearMover!\n",
      "\u001b[0mprotocols.simple_moves.BackboneMover: {0} \u001b[0m\u001b[1m[ WARNING ]\u001b[0m no movable positions in ShearMover!\n",
      "\u001b[0mprotocols.simple_moves.BackboneMover: {0} \u001b[0m\u001b[1m[ WARNING ]\u001b[0m no movable positions in ShearMover!\n",
      "\u001b[0mprotocols.simple_moves.BackboneMover: {0} \u001b[0m\u001b[1m[ WARNING ]\u001b[0m no movable positions in ShearMover!\n",
      "\u001b[0mprotocols.simple_moves.BackboneMover: {0} \u001b[0m\u001b[1m[ WARNING ]\u001b[0m no movable positions in ShearMover!\n",
      "\u001b[0mprotocols.simple_moves.BackboneMover: {0} \u001b[0m\u001b[1m[ WARNING ]\u001b[0m no movable positions in ShearMover!\n",
      "\u001b[0mprotocols.simple_moves.BackboneMover: {0} \u001b[0m\u001b[1m[ WARNING ]\u001b[0m no movable positions in ShearMover!\n",
      "\u001b[0mprotocols.simple_moves.BackboneMover: {0} \u001b[0m\u001b[1m[ WARNING ]\u001b[0m no movable positions in ShearMover!\n",
      "\u001b[0mprotocols.simple_moves.BackboneMover: {0} \u001b[0m\u001b[1m[ WARNING ]\u001b[0m no movable positions in ShearMover!\n",
      "\u001b[0mprotocols.simple_moves.BackboneMover: {0} \u001b[0m\u001b[1m[ WARNING ]\u001b[0m no movable positions in ShearMover!\n",
      "\u001b[0mprotocols.simple_moves.BackboneMover: {0} \u001b[0m\u001b[1m[ WARNING ]\u001b[0m no movable positions in ShearMover!\n",
      "\u001b[0mprotocols.simple_moves.BackboneMover: {0} \u001b[0m\u001b[1m[ WARNING ]\u001b[0m no movable positions in ShearMover!\n",
      "\u001b[0mprotocols.simple_moves.BackboneMover: {0} \u001b[0m\u001b[1m[ WARNING ]\u001b[0m no movable positions in ShearMover!\n",
      "\u001b[0mprotocols.simple_moves.BackboneMover: {0} \u001b[0m\u001b[1m[ WARNING ]\u001b[0m no movable positions in ShearMover!\n",
      "\u001b[0mprotocols.simple_moves.BackboneMover: {0} \u001b[0m\u001b[1m[ WARNING ]\u001b[0m no movable positions in ShearMover!\n",
      "\u001b[0mprotocols.simple_moves.BackboneMover: {0} \u001b[0m\u001b[1m[ WARNING ]\u001b[0m no movable positions in ShearMover!\n",
      "\u001b[0mprotocols.simple_moves.BackboneMover: {0} \u001b[0m\u001b[1m[ WARNING ]\u001b[0m no movable positions in ShearMover!\n",
      "\u001b[0mprotocols.simple_moves.BackboneMover: {0} \u001b[0m\u001b[1m[ WARNING ]\u001b[0m no movable positions in ShearMover!\n",
      "\u001b[0mprotocols.simple_moves.BackboneMover: {0} \u001b[0m\u001b[1m[ WARNING ]\u001b[0m no movable positions in ShearMover!\n",
      "\u001b[0mprotocols.simple_moves.BackboneMover: {0} \u001b[0m\u001b[1m[ WARNING ]\u001b[0m no movable positions in ShearMover!\n",
      "\u001b[0mprotocols.simple_moves.BackboneMover: {0} \u001b[0m\u001b[1m[ WARNING ]\u001b[0m no movable positions in ShearMover!\n",
      "\u001b[0mprotocols.simple_moves.BackboneMover: {0} \u001b[0m\u001b[1m[ WARNING ]\u001b[0m no movable positions in ShearMover!\n",
      "\u001b[0mprotocols.simple_moves.BackboneMover: {0} \u001b[0m\u001b[1m[ WARNING ]\u001b[0m no movable positions in ShearMover!\n",
      "\u001b[0mprotocols.simple_moves.BackboneMover: {0} \u001b[0m\u001b[1m[ WARNING ]\u001b[0m no movable positions in ShearMover!\n",
      "\u001b[0mprotocols.simple_moves.BackboneMover: {0} \u001b[0m\u001b[1m[ WARNING ]\u001b[0m no movable positions in ShearMover!\n",
      "\u001b[0mprotocols.simple_moves.BackboneMover: {0} \u001b[0m\u001b[1m[ WARNING ]\u001b[0m no movable positions in ShearMover!\n",
      "\u001b[0mprotocols.simple_moves.BackboneMover: {0} \u001b[0m\u001b[1m[ WARNING ]\u001b[0m no movable positions in ShearMover!\n",
      "\u001b[0mprotocols.simple_moves.BackboneMover: {0} \u001b[0m\u001b[1m[ WARNING ]\u001b[0m no movable positions in ShearMover!\n"
     ]
    },
    {
     "name": "stdout",
     "output_type": "stream",
     "text": [
      "\u001b[0mprotocols.simple_moves.BackboneMover: {0} \u001b[0m\u001b[1m[ WARNING ]\u001b[0m no movable positions in ShearMover!\n",
      "\u001b[0mprotocols.simple_moves.BackboneMover: {0} \u001b[0m\u001b[1m[ WARNING ]\u001b[0m no movable positions in ShearMover!\n",
      "\u001b[0mprotocols.simple_moves.BackboneMover: {0} \u001b[0m\u001b[1m[ WARNING ]\u001b[0m no movable positions in ShearMover!\n",
      "\u001b[0mprotocols.simple_moves.BackboneMover: {0} \u001b[0m\u001b[1m[ WARNING ]\u001b[0m no movable positions in ShearMover!\n",
      "\u001b[0mprotocols.simple_moves.BackboneMover: {0} \u001b[0m\u001b[1m[ WARNING ]\u001b[0m no movable positions in ShearMover!\n",
      "\u001b[0mprotocols.simple_moves.BackboneMover: {0} \u001b[0m\u001b[1m[ WARNING ]\u001b[0m no movable positions in ShearMover!\n",
      "\u001b[0mprotocols.simple_moves.BackboneMover: {0} \u001b[0m\u001b[1m[ WARNING ]\u001b[0m no movable positions in ShearMover!\n",
      "\u001b[0mprotocols.simple_moves.BackboneMover: {0} \u001b[0m\u001b[1m[ WARNING ]\u001b[0m no movable positions in ShearMover!\n",
      "\u001b[0mprotocols.simple_moves.BackboneMover: {0} \u001b[0m\u001b[1m[ WARNING ]\u001b[0m no movable positions in ShearMover!\n",
      "\u001b[0mprotocols.simple_moves.BackboneMover: {0} \u001b[0m\u001b[1m[ WARNING ]\u001b[0m no movable positions in ShearMover!\n",
      "\u001b[0mprotocols.simple_moves.BackboneMover: {0} \u001b[0m\u001b[1m[ WARNING ]\u001b[0m no movable positions in ShearMover!\n",
      "\u001b[0mprotocols.simple_moves.BackboneMover: {0} \u001b[0m\u001b[1m[ WARNING ]\u001b[0m no movable positions in ShearMover!\n",
      "\u001b[0mprotocols.simple_moves.BackboneMover: {0} \u001b[0m\u001b[1m[ WARNING ]\u001b[0m no movable positions in ShearMover!\n",
      "\u001b[0mprotocols.simple_moves.BackboneMover: {0} \u001b[0m\u001b[1m[ WARNING ]\u001b[0m no movable positions in ShearMover!\n",
      "\u001b[0mprotocols.simple_moves.BackboneMover: {0} \u001b[0m\u001b[1m[ WARNING ]\u001b[0m no movable positions in ShearMover!\n",
      "\u001b[0mprotocols.simple_moves.BackboneMover: {0} \u001b[0m\u001b[1m[ WARNING ]\u001b[0m no movable positions in ShearMover!\n",
      "\u001b[0mprotocols.simple_moves.BackboneMover: {0} \u001b[0m\u001b[1m[ WARNING ]\u001b[0m no movable positions in ShearMover!\n",
      "\u001b[0mprotocols.simple_moves.BackboneMover: {0} \u001b[0m\u001b[1m[ WARNING ]\u001b[0m no movable positions in ShearMover!\n",
      "\u001b[0mprotocols.simple_moves.BackboneMover: {0} \u001b[0m\u001b[1m[ WARNING ]\u001b[0m no movable positions in ShearMover!\n",
      "\u001b[0mprotocols.simple_moves.BackboneMover: {0} \u001b[0m\u001b[1m[ WARNING ]\u001b[0m no movable positions in ShearMover!\n",
      "\u001b[0mprotocols.simple_moves.BackboneMover: {0} \u001b[0m\u001b[1m[ WARNING ]\u001b[0m no movable positions in ShearMover!\n",
      "\u001b[0mprotocols.simple_moves.BackboneMover: {0} \u001b[0m\u001b[1m[ WARNING ]\u001b[0m no movable positions in ShearMover!\n",
      "\u001b[0mprotocols.simple_moves.BackboneMover: {0} \u001b[0m\u001b[1m[ WARNING ]\u001b[0m no movable positions in ShearMover!\n",
      "\u001b[0mprotocols.simple_moves.BackboneMover: {0} \u001b[0m\u001b[1m[ WARNING ]\u001b[0m no movable positions in ShearMover!\n",
      "\u001b[0mprotocols.simple_moves.BackboneMover: {0} \u001b[0m\u001b[1m[ WARNING ]\u001b[0m no movable positions in ShearMover!\n",
      "\u001b[0mprotocols.simple_moves.BackboneMover: {0} \u001b[0m\u001b[1m[ WARNING ]\u001b[0m no movable positions in ShearMover!\n",
      "\u001b[0mprotocols.simple_moves.BackboneMover: {0} \u001b[0m\u001b[1m[ WARNING ]\u001b[0m no movable positions in ShearMover!\n",
      "\u001b[0mprotocols.simple_moves.BackboneMover: {0} \u001b[0m\u001b[1m[ WARNING ]\u001b[0m no movable positions in ShearMover!\n",
      "\u001b[0mprotocols.carbohydrates.util: {0} \u001b[0mShear accepts: 80/80\n",
      "\u001b[0mprotocols.carbohydrates.util: {0} \u001b[0mmin accept: 1\n",
      "\u001b[0mcore.pack.task: {0} \u001b[0mPacker task: initialize from command line()\n",
      "\u001b[0mcore.pack.rotamer_set.RotamerSet_: {0} \u001b[0m\u001b[1m[ WARNING ]\u001b[0m including current in order to get at least 1 rotamer !!!!!! 2 THR:O-conjugated\n",
      "\u001b[0mcore.pack.pack_rotamers: {0} \u001b[0mbuilt 406 rotamers at 3 positions.\n",
      "\u001b[0mcore.pack.pack_rotamers: {0} \u001b[0mRequesting all available threads for interaction graph computation.\n",
      "\u001b[0mcore.pack.interaction_graph.interaction_graph_factory: {0} \u001b[0mInstantiating DensePDInteractionGraph\n",
      "\u001b[0mcore.pack.rotamer_set.RotamerSets: {0} \u001b[0mCompleted interaction graph pre-calculation in 1 available threads (1 had been requested).\n",
      "\u001b[0mprotocols.carbohydrates.util: {0} \u001b[0mpack accepted: 1\n",
      "\u001b[0mprotocols.simple_moves.BackboneMover: {0} \u001b[0m\u001b[1m[ WARNING ]\u001b[0m no movable positions in ShearMover!\n",
      "\u001b[0mprotocols.simple_moves.BackboneMover: {0} \u001b[0m\u001b[1m[ WARNING ]\u001b[0m no movable positions in ShearMover!\n",
      "\u001b[0mprotocols.simple_moves.BackboneMover: {0} \u001b[0m\u001b[1m[ WARNING ]\u001b[0m no movable positions in ShearMover!\n",
      "\u001b[0mprotocols.simple_moves.BackboneMover: {0} \u001b[0m\u001b[1m[ WARNING ]\u001b[0m no movable positions in ShearMover!\n",
      "\u001b[0mprotocols.simple_moves.BackboneMover: {0} \u001b[0m\u001b[1m[ WARNING ]\u001b[0m no movable positions in ShearMover!\n",
      "\u001b[0mprotocols.simple_moves.BackboneMover: {0} \u001b[0m\u001b[1m[ WARNING ]\u001b[0m no movable positions in ShearMover!\n",
      "\u001b[0mprotocols.simple_moves.BackboneMover: {0} \u001b[0m\u001b[1m[ WARNING ]\u001b[0m no movable positions in ShearMover!\n",
      "\u001b[0mprotocols.simple_moves.BackboneMover: {0} \u001b[0m\u001b[1m[ WARNING ]\u001b[0m no movable positions in ShearMover!\n",
      "\u001b[0mprotocols.simple_moves.BackboneMover: {0} \u001b[0m\u001b[1m[ WARNING ]\u001b[0m no movable positions in ShearMover!\n",
      "\u001b[0mprotocols.simple_moves.BackboneMover: {0} \u001b[0m\u001b[1m[ WARNING ]\u001b[0m no movable positions in ShearMover!\n",
      "\u001b[0mprotocols.simple_moves.BackboneMover: {0} \u001b[0m\u001b[1m[ WARNING ]\u001b[0m no movable positions in ShearMover!\n",
      "\u001b[0mprotocols.simple_moves.BackboneMover: {0} \u001b[0m\u001b[1m[ WARNING ]\u001b[0m no movable positions in ShearMover!\n",
      "\u001b[0mprotocols.simple_moves.BackboneMover: {0} \u001b[0m\u001b[1m[ WARNING ]\u001b[0m no movable positions in ShearMover!\n",
      "\u001b[0mprotocols.simple_moves.BackboneMover: {0} \u001b[0m\u001b[1m[ WARNING ]\u001b[0m no movable positions in ShearMover!\n",
      "\u001b[0mprotocols.simple_moves.BackboneMover: {0} \u001b[0m\u001b[1m[ WARNING ]\u001b[0m no movable positions in ShearMover!\n",
      "\u001b[0mprotocols.simple_moves.BackboneMover: {0} \u001b[0m\u001b[1m[ WARNING ]\u001b[0m no movable positions in ShearMover!\n",
      "\u001b[0mprotocols.simple_moves.BackboneMover: {0} \u001b[0m\u001b[1m[ WARNING ]\u001b[0m no movable positions in ShearMover!\n",
      "\u001b[0mprotocols.simple_moves.BackboneMover: {0} \u001b[0m\u001b[1m[ WARNING ]\u001b[0m no movable positions in ShearMover!\n",
      "\u001b[0mprotocols.simple_moves.BackboneMover: {0} \u001b[0m\u001b[1m[ WARNING ]\u001b[0m no movable positions in ShearMover!\n",
      "\u001b[0mprotocols.simple_moves.BackboneMover: {0} \u001b[0m\u001b[1m[ WARNING ]\u001b[0m no movable positions in ShearMover!\n",
      "\u001b[0mprotocols.simple_moves.BackboneMover: {0} \u001b[0m\u001b[1m[ WARNING ]\u001b[0m no movable positions in ShearMover!\n",
      "\u001b[0mprotocols.simple_moves.BackboneMover: {0} \u001b[0m\u001b[1m[ WARNING ]\u001b[0m no movable positions in ShearMover!\n",
      "\u001b[0mprotocols.simple_moves.BackboneMover: {0} \u001b[0m\u001b[1m[ WARNING ]\u001b[0m no movable positions in ShearMover!\n",
      "\u001b[0mprotocols.simple_moves.BackboneMover: {0} \u001b[0m\u001b[1m[ WARNING ]\u001b[0m no movable positions in ShearMover!\n",
      "\u001b[0mprotocols.simple_moves.BackboneMover: {0} \u001b[0m\u001b[1m[ WARNING ]\u001b[0m no movable positions in ShearMover!\n",
      "\u001b[0mprotocols.simple_moves.BackboneMover: {0} \u001b[0m\u001b[1m[ WARNING ]\u001b[0m no movable positions in ShearMover!\n",
      "\u001b[0mprotocols.simple_moves.BackboneMover: {0} \u001b[0m\u001b[1m[ WARNING ]\u001b[0m no movable positions in ShearMover!\n",
      "\u001b[0mprotocols.simple_moves.BackboneMover: {0} \u001b[0m\u001b[1m[ WARNING ]\u001b[0m no movable positions in ShearMover!\n",
      "\u001b[0mprotocols.simple_moves.BackboneMover: {0} \u001b[0m\u001b[1m[ WARNING ]\u001b[0m no movable positions in ShearMover!\n",
      "\u001b[0mprotocols.simple_moves.BackboneMover: {0} \u001b[0m\u001b[1m[ WARNING ]\u001b[0m no movable positions in ShearMover!\n",
      "\u001b[0mprotocols.simple_moves.BackboneMover: {0} \u001b[0m\u001b[1m[ WARNING ]\u001b[0m no movable positions in ShearMover!\n",
      "\u001b[0mprotocols.simple_moves.BackboneMover: {0} \u001b[0m\u001b[1m[ WARNING ]\u001b[0m no movable positions in ShearMover!\n",
      "\u001b[0mprotocols.simple_moves.BackboneMover: {0} \u001b[0m\u001b[1m[ WARNING ]\u001b[0m no movable positions in ShearMover!\n",
      "\u001b[0mprotocols.simple_moves.BackboneMover: {0} \u001b[0m\u001b[1m[ WARNING ]\u001b[0m no movable positions in ShearMover!\n",
      "\u001b[0mprotocols.simple_moves.BackboneMover: {0} \u001b[0m\u001b[1m[ WARNING ]\u001b[0m no movable positions in ShearMover!\n",
      "\u001b[0mprotocols.simple_moves.BackboneMover: {0} \u001b[0m\u001b[1m[ WARNING ]\u001b[0m no movable positions in ShearMover!\n",
      "\u001b[0mprotocols.simple_moves.BackboneMover: {0} \u001b[0m\u001b[1m[ WARNING ]\u001b[0m no movable positions in ShearMover!\n",
      "\u001b[0mprotocols.simple_moves.BackboneMover: {0} \u001b[0m\u001b[1m[ WARNING ]\u001b[0m no movable positions in ShearMover!\n",
      "\u001b[0mprotocols.simple_moves.BackboneMover: {0} \u001b[0m\u001b[1m[ WARNING ]\u001b[0m no movable positions in ShearMover!\n",
      "\u001b[0mprotocols.simple_moves.BackboneMover: {0} \u001b[0m\u001b[1m[ WARNING ]\u001b[0m no movable positions in ShearMover!\n",
      "\u001b[0mprotocols.simple_moves.BackboneMover: {0} \u001b[0m\u001b[1m[ WARNING ]\u001b[0m no movable positions in ShearMover!\n",
      "\u001b[0mprotocols.simple_moves.BackboneMover: {0} \u001b[0m\u001b[1m[ WARNING ]\u001b[0m no movable positions in ShearMover!\n"
     ]
    },
    {
     "name": "stdout",
     "output_type": "stream",
     "text": [
      "\u001b[0mprotocols.simple_moves.BackboneMover: {0} \u001b[0m\u001b[1m[ WARNING ]\u001b[0m no movable positions in ShearMover!\n",
      "\u001b[0mprotocols.simple_moves.BackboneMover: {0} \u001b[0m\u001b[1m[ WARNING ]\u001b[0m no movable positions in ShearMover!\n",
      "\u001b[0mprotocols.simple_moves.BackboneMover: {0} \u001b[0m\u001b[1m[ WARNING ]\u001b[0m no movable positions in ShearMover!\n",
      "\u001b[0mprotocols.simple_moves.BackboneMover: {0} \u001b[0m\u001b[1m[ WARNING ]\u001b[0m no movable positions in ShearMover!\n",
      "\u001b[0mprotocols.simple_moves.BackboneMover: {0} \u001b[0m\u001b[1m[ WARNING ]\u001b[0m no movable positions in ShearMover!\n",
      "\u001b[0mprotocols.simple_moves.BackboneMover: {0} \u001b[0m\u001b[1m[ WARNING ]\u001b[0m no movable positions in ShearMover!\n",
      "\u001b[0mprotocols.simple_moves.BackboneMover: {0} \u001b[0m\u001b[1m[ WARNING ]\u001b[0m no movable positions in ShearMover!\n",
      "\u001b[0mprotocols.simple_moves.BackboneMover: {0} \u001b[0m\u001b[1m[ WARNING ]\u001b[0m no movable positions in ShearMover!\n",
      "\u001b[0mprotocols.simple_moves.BackboneMover: {0} \u001b[0m\u001b[1m[ WARNING ]\u001b[0m no movable positions in ShearMover!\n",
      "\u001b[0mprotocols.simple_moves.BackboneMover: {0} \u001b[0m\u001b[1m[ WARNING ]\u001b[0m no movable positions in ShearMover!\n",
      "\u001b[0mprotocols.simple_moves.BackboneMover: {0} \u001b[0m\u001b[1m[ WARNING ]\u001b[0m no movable positions in ShearMover!\n",
      "\u001b[0mprotocols.simple_moves.BackboneMover: {0} \u001b[0m\u001b[1m[ WARNING ]\u001b[0m no movable positions in ShearMover!\n",
      "\u001b[0mprotocols.simple_moves.BackboneMover: {0} \u001b[0m\u001b[1m[ WARNING ]\u001b[0m no movable positions in ShearMover!\n",
      "\u001b[0mprotocols.simple_moves.BackboneMover: {0} \u001b[0m\u001b[1m[ WARNING ]\u001b[0m no movable positions in ShearMover!\n",
      "\u001b[0mprotocols.simple_moves.BackboneMover: {0} \u001b[0m\u001b[1m[ WARNING ]\u001b[0m no movable positions in ShearMover!\n",
      "\u001b[0mprotocols.simple_moves.BackboneMover: {0} \u001b[0m\u001b[1m[ WARNING ]\u001b[0m no movable positions in ShearMover!\n",
      "\u001b[0mprotocols.simple_moves.BackboneMover: {0} \u001b[0m\u001b[1m[ WARNING ]\u001b[0m no movable positions in ShearMover!\n",
      "\u001b[0mprotocols.simple_moves.BackboneMover: {0} \u001b[0m\u001b[1m[ WARNING ]\u001b[0m no movable positions in ShearMover!\n",
      "\u001b[0mprotocols.simple_moves.BackboneMover: {0} \u001b[0m\u001b[1m[ WARNING ]\u001b[0m no movable positions in ShearMover!\n",
      "\u001b[0mprotocols.simple_moves.BackboneMover: {0} \u001b[0m\u001b[1m[ WARNING ]\u001b[0m no movable positions in ShearMover!\n",
      "\u001b[0mprotocols.simple_moves.BackboneMover: {0} \u001b[0m\u001b[1m[ WARNING ]\u001b[0m no movable positions in ShearMover!\n",
      "\u001b[0mprotocols.simple_moves.BackboneMover: {0} \u001b[0m\u001b[1m[ WARNING ]\u001b[0m no movable positions in ShearMover!\n",
      "\u001b[0mprotocols.simple_moves.BackboneMover: {0} \u001b[0m\u001b[1m[ WARNING ]\u001b[0m no movable positions in ShearMover!\n",
      "\u001b[0mprotocols.simple_moves.BackboneMover: {0} \u001b[0m\u001b[1m[ WARNING ]\u001b[0m no movable positions in ShearMover!\n",
      "\u001b[0mprotocols.simple_moves.BackboneMover: {0} \u001b[0m\u001b[1m[ WARNING ]\u001b[0m no movable positions in ShearMover!\n",
      "\u001b[0mprotocols.simple_moves.BackboneMover: {0} \u001b[0m\u001b[1m[ WARNING ]\u001b[0m no movable positions in ShearMover!\n",
      "\u001b[0mprotocols.simple_moves.BackboneMover: {0} \u001b[0m\u001b[1m[ WARNING ]\u001b[0m no movable positions in ShearMover!\n",
      "\u001b[0mprotocols.simple_moves.BackboneMover: {0} \u001b[0m\u001b[1m[ WARNING ]\u001b[0m no movable positions in ShearMover!\n",
      "\u001b[0mprotocols.simple_moves.BackboneMover: {0} \u001b[0m\u001b[1m[ WARNING ]\u001b[0m no movable positions in ShearMover!\n",
      "\u001b[0mprotocols.simple_moves.BackboneMover: {0} \u001b[0m\u001b[1m[ WARNING ]\u001b[0m no movable positions in ShearMover!\n",
      "\u001b[0mprotocols.simple_moves.BackboneMover: {0} \u001b[0m\u001b[1m[ WARNING ]\u001b[0m no movable positions in ShearMover!\n",
      "\u001b[0mprotocols.simple_moves.BackboneMover: {0} \u001b[0m\u001b[1m[ WARNING ]\u001b[0m no movable positions in ShearMover!\n",
      "\u001b[0mprotocols.simple_moves.BackboneMover: {0} \u001b[0m\u001b[1m[ WARNING ]\u001b[0m no movable positions in ShearMover!\n",
      "\u001b[0mprotocols.simple_moves.BackboneMover: {0} \u001b[0m\u001b[1m[ WARNING ]\u001b[0m no movable positions in ShearMover!\n",
      "\u001b[0mprotocols.simple_moves.BackboneMover: {0} \u001b[0m\u001b[1m[ WARNING ]\u001b[0m no movable positions in ShearMover!\n",
      "\u001b[0mprotocols.simple_moves.BackboneMover: {0} \u001b[0m\u001b[1m[ WARNING ]\u001b[0m no movable positions in ShearMover!\n",
      "\u001b[0mprotocols.simple_moves.BackboneMover: {0} \u001b[0m\u001b[1m[ WARNING ]\u001b[0m no movable positions in ShearMover!\n",
      "\u001b[0mprotocols.simple_moves.BackboneMover: {0} \u001b[0m\u001b[1m[ WARNING ]\u001b[0m no movable positions in ShearMover!\n",
      "\u001b[0mprotocols.carbohydrates.util: {0} \u001b[0mShear accepts: 80/80\n",
      "\u001b[0mprotocols.carbohydrates.util: {0} \u001b[0mmin accept: 1\n",
      "\u001b[0mcore.pack.task: {0} \u001b[0mPacker task: initialize from command line()\n",
      "\u001b[0mcore.pack.rotamer_set.RotamerSet_: {0} \u001b[0m\u001b[1m[ WARNING ]\u001b[0m including current in order to get at least 1 rotamer !!!!!! 2 THR:O-conjugated\n",
      "\u001b[0mcore.pack.pack_rotamers: {0} \u001b[0mbuilt 406 rotamers at 3 positions.\n",
      "\u001b[0mcore.pack.pack_rotamers: {0} \u001b[0mRequesting all available threads for interaction graph computation.\n",
      "\u001b[0mcore.pack.interaction_graph.interaction_graph_factory: {0} \u001b[0mInstantiating DensePDInteractionGraph\n",
      "\u001b[0mcore.pack.rotamer_set.RotamerSets: {0} \u001b[0mCompleted interaction graph pre-calculation in 1 available threads (1 had been requested).\n",
      "\u001b[0mprotocols.carbohydrates.util: {0} \u001b[0mpack accepted: 1\n",
      "\u001b[0mprotocols.carbohydrates.GlycanSampler: {0} \u001b[0menergy final post min: 261.61\n",
      "\u001b[0mprotocols.carbohydrates.GlycanSampler: {0} \u001b[0menergy recov post min: 261.599\n",
      "\u001b[0mprotocols.moves.TrialCounter: {0} \u001b[0m             unk trials=    345;  accepts= 0.7246;  energy_drop/trial=  -2.13319\n",
      "PDB file name: STP\n",
      "Total residues: 5\n",
      "Sequence: STPZZ\n",
      "Fold tree:\n",
      "FOLD_TREE  EDGE 1 3 -1  EDGE 2 4 -2  OG1  C1   EDGE 4 5 -1 \n",
      "\u001b[0mcore.import_pose.import_pose: {0} \u001b[0mFile '/home/souvadra/myGitFolders/Glycosyltransferase/glycan_sampler_pipeline/output_3OTK-closed-S217C/3OTK-closed-monomer-alpha-GlcNAc-S217C_0005.pdb' automatically determined to be of type PDB\n",
      "\u001b[0mcore.io.util: {0} \u001b[0mAutomatic glycan connection is activated.\n",
      "\u001b[0mcore.io.util: {0} \u001b[0mStart reordering residues.\n",
      "\u001b[0mcore.io.util: {0} \u001b[0mCorrected glycan residue order (internal numbering): [371]\n",
      "\u001b[0mcore.io.util: {0} \u001b[0m\n",
      "\u001b[0mcore.io.pose_from_sfr.PoseFromSFRBuilder: {0} \u001b[0m\u001b[1m[ WARNING ]\u001b[0m UDP370 has an unfavorable ring conformation; the coordinates for this input structure may have been poorly assigned.\n",
      "\u001b[0mcore.io.pose_from_sfr.PoseFromSFRBuilder: {0} \u001b[0m\u001b[1m[ WARNING ]\u001b[0m Glc371 has an unfavorable ring conformation; the coordinates for this input structure may have been poorly assigned.\n",
      "\u001b[0mcore.conformation.Conformation: {0} \u001b[0mFound disulfide between residues 4 358\n",
      "\u001b[0mcore.conformation.Conformation: {0} \u001b[0mcurrent variant for 4 CYS\n",
      "\u001b[0mcore.conformation.Conformation: {0} \u001b[0mcurrent variant for 358 CYS\n",
      "\u001b[0mcore.conformation.Conformation: {0} \u001b[0mcurrent variant for 4 CYD\n",
      "\u001b[0mcore.conformation.Conformation: {0} \u001b[0mcurrent variant for 358 CYD\n",
      "\u001b[0mcore.conformation.Conformation: {0} \u001b[0mFound disulfide between residues 45 117\n",
      "\u001b[0mcore.conformation.Conformation: {0} \u001b[0mcurrent variant for 45 CYS\n",
      "\u001b[0mcore.conformation.Conformation: {0} \u001b[0mcurrent variant for 117 CYS\n",
      "\u001b[0mcore.conformation.Conformation: {0} \u001b[0mcurrent variant for 45 CYD\n",
      "\u001b[0mcore.conformation.Conformation: {0} \u001b[0mcurrent variant for 117 CYD\n",
      "\u001b[0mcore.conformation.Conformation: {0} \u001b[0mFound disulfide between residues 96 144\n",
      "\u001b[0mcore.conformation.Conformation: {0} \u001b[0mcurrent variant for 96 CYS\n",
      "\u001b[0mcore.conformation.Conformation: {0} \u001b[0mcurrent variant for 144 CYS\n",
      "\u001b[0mcore.conformation.Conformation: {0} \u001b[0mcurrent variant for 96 CYD\n",
      "\u001b[0mcore.conformation.Conformation: {0} \u001b[0mcurrent variant for 144 CYD\n",
      "\u001b[0mcore.conformation.Conformation: {0} \u001b[0mFound disulfide between residues 317 326\n",
      "\u001b[0mcore.conformation.Conformation: {0} \u001b[0mcurrent variant for 317 CYS\n",
      "\u001b[0mcore.conformation.Conformation: {0} \u001b[0mcurrent variant for 326 CYS\n",
      "\u001b[0mcore.conformation.Conformation: {0} \u001b[0mcurrent variant for 317 CYD\n",
      "\u001b[0mcore.conformation.Conformation: {0} \u001b[0mcurrent variant for 326 CYD\n",
      "\u001b[0mcore.conformation.carbohydrates.GlycanTreeSet: {0} \u001b[0mSetting up Glycan Trees\n",
      "\u001b[0mcore.conformation.carbohydrates.GlycanTreeSet: {0} \u001b[0mFound 1 glycan trees.\n"
     ]
    }
   ],
   "source": [
    "import sys \n",
    "from pyrosetta import *\n",
    "from pyrosetta.rosetta import *\n",
    "from pyrosetta.rosetta.protocols.carbohydrates import *\n",
    "from pyrosetta.rosetta.core.pose import *\n",
    "from pyrosetta.rosetta.core.scoring import *\n",
    "from pyrosetta.rosetta.protocols.minimization_packing import *\n",
    "from pyrosetta.rosetta.core.pose.carbohydrates import glycosylate_pose, glycosylate_pose_by_file\n",
    "from pyrosetta.rosetta.protocols.carbohydrates import SimpleGlycosylateMover\n",
    "from pyrosetta.rosetta.protocols.rosetta_scripts import *\n",
    "\n",
    "## Personal Imports|\n",
    "import basePeptidePrep\n",
    "#import addBaseSugarAndEnzyme\n",
    "\n",
    "## Pyrosetta Initialization\n",
    "pyrosetta.init('-include_sugars -write_pdb_link_records -ex1 -ex2 -alternate_3_letter_codes pdb_sugar -auto_detect_glycan_connections -min_bond_length 1.1 -max_bond_length 1.5 -ignore_zero_occupancy false -ignore_unrecognized_res false')\n",
    "\n",
    "## Command Line Arguments \n",
    "'''\n",
    "Command Line Arguments:\n",
    "# For the base peptide \n",
    "- Sequence of the base peptide (2-3 AA long peptides are ideal) : base_seq\n",
    "- Position of the sequence containing THR that will be glycosylated : base_pos\n",
    "- the sugar that will be glycosylated on the base peptide : base_sugar\n",
    "\n",
    "# input pdb files\n",
    "- The enzyme with donor peptide \n",
    "\n",
    "'''\n",
    "base_seq = \"STP\"\n",
    "base_position = 2\n",
    "base_sugar = \"core1\"\n",
    "input_enzyme_file = \"/home/souvadra/myGitFolders/Glycosyltransferase/glycan_sampler_pipeline/output_3OTK-closed-S217C/3OTK-closed-monomer-alpha-GlcNAc-S217C_0005.pdb\"\n",
    "## Prepare the base peptide \n",
    "base_pose = basePeptidePrep.basePeptideBuild(base_seq, base_position, base_sugar)\n",
    "print(base_pose)\n",
    "\n",
    "## Addition of peptide and sugar motif \n",
    "enzyme_pose = pose_from_pdb(input_enzyme_file)\n"
   ]
  },
  {
   "cell_type": "code",
   "execution_count": 2,
   "metadata": {},
   "outputs": [
    {
     "name": "stdout",
     "output_type": "stream",
     "text": [
      "\u001b[0mcore.conformation.carbohydrates.GlycanTreeSet: {0} \u001b[0mSetting up Glycan Trees\n",
      "\u001b[0mcore.conformation.carbohydrates.GlycanTreeSet: {0} \u001b[0mFound 2 glycan trees.\n"
     ]
    }
   ],
   "source": [
    "enzyme_pose.append_pose_by_jump(base_pose, 369)\n",
    "\n",
    "#sugar_and_enzyme_pose = addBaseSugarAndEnzyme(base_pose, enzyme_pose, \"constraints\")"
   ]
  },
  {
   "cell_type": "code",
   "execution_count": null,
   "metadata": {},
   "outputs": [],
   "source": [
    "print(enzyme_pose.total_residue())"
   ]
  },
  {
   "cell_type": "code",
   "execution_count": null,
   "metadata": {},
   "outputs": [],
   "source": [
    "print(base_pose)\n",
    "print(enzyme_pose)"
   ]
  },
  {
   "cell_type": "code",
   "execution_count": null,
   "metadata": {},
   "outputs": [],
   "source": [
    "base_pose.dump_pdb(\"merged.pdb\")"
   ]
  },
  {
   "cell_type": "code",
   "execution_count": 28,
   "metadata": {},
   "outputs": [
    {
     "name": "stdout",
     "output_type": "stream",
     "text": [
      "FOLD_TREE  EDGE 130 1 -1  EDGE 130 369 -1  EDGE 130 373 1  EDGE 130 370 2  EDGE 370 371 -1  EDGE 373 372 -1  EDGE 373 374 -1  EDGE 373 375 -2    EDGE 375 376 -1 \n",
      "9\n"
     ]
    }
   ],
   "source": [
    "print(enzyme_pose.fold_tree())\n",
    "print(enzyme_pose.fold_tree().size())"
   ]
  },
  {
   "cell_type": "code",
   "execution_count": null,
   "metadata": {},
   "outputs": [],
   "source": [
    "ft = pyrosetta.FoldTree()\n",
    "ft.reorder(1)"
   ]
  },
  {
   "cell_type": "code",
   "execution_count": 18,
   "metadata": {},
   "outputs": [
    {
     "name": "stdout",
     "output_type": "stream",
     "text": [
      "FOLD_TREE  EDGE 130 1 -1  EDGE 130 369 -1  EDGE 130 373 1  EDGE 130 370 2  EDGE 373 372 -1  EDGE 373 374 -1  EDGE 370 371 -1  EDGE 373 375 -2    EDGE 373 370 3  EDGE 375 376 -1 \n"
     ]
    }
   ],
   "source": [
    "first_residue_enzyme = 1\n",
    "last_residue_enzyme = 369\n",
    "anchor_residue_enzyme = 130\n",
    "anchor_residue_substrate = 373\n",
    "first_residue_substrate = 372\n",
    "last_residue_substrate = 374\n",
    "first_donor = 370\n",
    "last_donor = 371\n",
    "\n",
    "ft_docking = pyrosetta.FoldTree()\n",
    "\n",
    "'''\n",
    "for downElem in range(first_residue_enzyme,anchor_residue_enzyme):\n",
    "    downElem = anchor_residue_enzyme  - downElem \n",
    "    ft_docking.add_edge(downElem + 1, downElem, -1) \n",
    "    # making a bond chain of 130-129, 129-128 ... \n",
    "for upElem in range(anchor_residue_enzyme, last_residue_enzyme): \n",
    "    ft_docking.add_edge(upElem, upElem+1, -1)\n",
    "    # making a bond chain of 130-131, 131-132 ... \n",
    "'''\n",
    "ft_docking.add_edge(anchor_residue_enzyme,1,-1)\n",
    "ft_docking.add_edge(anchor_residue_enzyme,last_residue_enzyme,-1)\n",
    "\n",
    "ft_docking.add_edge(anchor_residue_enzyme, anchor_residue_substrate, 1) \n",
    "ft_docking.add_edge(anchor_residue_enzyme, first_donor, 2)\n",
    "        \n",
    "ft_docking.add_edge(anchor_residue_substrate, first_residue_substrate, -1) # downstream base peptide \n",
    "ft_docking.add_edge(anchor_residue_substrate, last_residue_substrate, -1) # upstream base peptide \n",
    "ft_docking.add_edge(first_donor,last_donor,-1) # the donor UDP-GlcNAc backbone\n",
    "\n",
    "# setup branches \n",
    "chemical_edges = enzyme_pose.fold_tree().get_chemical_edges() # connections to the glycan residues from anchor out \n",
    "for chemical in range(1, len(chemical_edges) + 1):\n",
    "    ft_docking.add_edge(chemical_edges[chemical].start(), chemical_edges[chemical].stop(), -2)\n",
    "\n",
    "#ft_docking.add_edge(anchor_residue_substrate, first_donor, 3)\n",
    "\n",
    "ft_docking.add_edge(375,376,-1) # Adding the covalent bond between the two sugars of core 1 \n",
    "print(ft_docking)"
   ]
  },
  {
   "cell_type": "code",
   "execution_count": 19,
   "metadata": {},
   "outputs": [
    {
     "name": "stdout",
     "output_type": "stream",
     "text": [
      "\u001b[0mcore.kinematics.FoldTree: {0} \u001b[0m\u001b[31m\u001b[1m[ ERROR ]\u001b[0m Bad fold tree at edge  EDGE 373 370 3\n",
      "\u001b[0mcore.kinematics.FoldTree: {0} \u001b[0m\u001b[31m\u001b[1m[ ERROR ]\u001b[0m Stop residue 370 has already been built.\n",
      "\u001b[0mcore.kinematics.FoldTree: {0} \u001b[0m\u001b[31m\u001b[1m[ ERROR ]\u001b[0m FOLD_TREE  EDGE 130 1 -1  EDGE 130 369 -1  EDGE 130 373 1  EDGE 130 370 2  EDGE 373 372 -1  EDGE 373 374 -1  EDGE 370 371 -1  EDGE 373 375 -2    EDGE 373 370 3  EDGE 375 376 -1\n"
     ]
    },
    {
     "data": {
      "text/plain": [
       "False"
      ]
     },
     "execution_count": 19,
     "metadata": {},
     "output_type": "execute_result"
    }
   ],
   "source": [
    "ft_docking.check_fold_tree()"
   ]
  },
  {
   "cell_type": "code",
   "execution_count": 17,
   "metadata": {},
   "outputs": [
    {
     "name": "stdout",
     "output_type": "stream",
     "text": [
      "FOLD_TREE  EDGE 1 369 -1  EDGE 1 370 1  EDGE 370 371 -1  EDGE 369 372 2  EDGE 372 374 -1  EDGE 373 375 -2  OG1  C1   EDGE 375 376 -1 \n",
      "FOLD_TREE  EDGE 130 1 -1  EDGE 130 369 -1  EDGE 130 373 1  EDGE 130 370 2  EDGE 373 372 -1  EDGE 373 374 -1  EDGE 370 371 -1  EDGE 373 375 -2    EDGE 375 376 -1 \n"
     ]
    }
   ],
   "source": [
    "print(enzyme_pose.fold_tree())\n",
    "enzyme_pose.fold_tree(ft_docking)\n",
    "print(enzyme_pose.fold_tree())"
   ]
  },
  {
   "cell_type": "code",
   "execution_count": 16,
   "metadata": {},
   "outputs": [
    {
     "name": "stdout",
     "output_type": "stream",
     "text": [
      "FOLD_TREE  EDGE 130 1 -1  EDGE 130 369 -1  EDGE 130 373 1  EDGE 130 370 2  EDGE 373 372 -1  EDGE 373 374 -1  EDGE 370 371 -1  EDGE 373 375 -2    EDGE 375 376 -1 \n"
     ]
    }
   ],
   "source": [
    "print(ft_docking)"
   ]
  },
  {
   "cell_type": "code",
   "execution_count": 10,
   "metadata": {},
   "outputs": [
    {
     "name": "stdout",
     "output_type": "stream",
     "text": [
      "FOLD_TREE  EDGE 1 369 -1  EDGE 1 370 1  EDGE 370 371 -1  EDGE 369 372 2  EDGE 372 374 -1  EDGE 373 375 -2  OG1  C1   EDGE 375 376 -1 \n"
     ]
    }
   ],
   "source": [
    "print(enzyme_pose.fold_tree())"
   ]
  },
  {
   "cell_type": "code",
   "execution_count": 13,
   "metadata": {},
   "outputs": [],
   "source": [
    "ft = pyrosetta.FoldTree()\n",
    "ft.add_edge(130,1,-1)\n",
    "ft.add_edge(130,369,-1)\n",
    "ft.add_edge(130,373,1)\n",
    "ft.add_edge(130,370,2)\n",
    "ft.add_edge(370,371,-1)\n",
    "ft.add_edge(373,372,-1)\n",
    "ft.add_edge(373,374,-1)\n",
    "ft.add_edge(373,375,-2)\n",
    "ft.add_edge(375,376,-1)"
   ]
  },
  {
   "cell_type": "code",
   "execution_count": 15,
   "metadata": {},
   "outputs": [
    {
     "name": "stdout",
     "output_type": "stream",
     "text": [
      "FOLD_TREE  EDGE 130 1 -1  EDGE 130 369 -1  EDGE 130 373 1  EDGE 130 370 2  EDGE 370 371 -1  EDGE 373 372 -1  EDGE 373 374 -1  EDGE 373 375 -2    EDGE 375 376 -1 \n"
     ]
    }
   ],
   "source": [
    "enzyme_pose.fold_tree(ft)\n",
    "print(enzyme_pose.fold_tree())"
   ]
  },
  {
   "cell_type": "code",
   "execution_count": 5,
   "metadata": {},
   "outputs": [
    {
     "name": "stdout",
     "output_type": "stream",
     "text": [
      "FOLD_TREE  EDGE 130 373 1  EDGE 130 370 2  EDGE 370 373 3  EDGE 130 1 -1  EDGE 130 369 -1  EDGE 370 371 -1  EDGE 373 372 -1  EDGE 373 374 -1  EDGE 375 376 -1  EDGE 373 375 -2   \n"
     ]
    }
   ],
   "source": [
    "print(ft)"
   ]
  },
  {
   "cell_type": "code",
   "execution_count": 16,
   "metadata": {
    "scrolled": true
   },
   "outputs": [
    {
     "data": {
      "text/plain": [
       "True"
      ]
     },
     "execution_count": 16,
     "metadata": {},
     "output_type": "execute_result"
    }
   ],
   "source": [
    "ft.check_fold_tree()\n",
    "ft.reorder(130)"
   ]
  },
  {
   "cell_type": "code",
   "execution_count": null,
   "metadata": {},
   "outputs": [],
   "source": [
    "ft2 = pyrosetta.FoldTree()\n",
    "ft2.reorder(130)\n",
    "enzyme_pose.fold_tree(ft2)"
   ]
  },
  {
   "cell_type": "code",
   "execution_count": null,
   "metadata": {},
   "outputs": [],
   "source": [
    "minimizer =  pyrosetta.rosetta.protocols.minimization_packing.MinMover()"
   ]
  },
  {
   "cell_type": "code",
   "execution_count": null,
   "metadata": {},
   "outputs": [],
   "source": [
    "minimizer.cartesian(True)"
   ]
  },
  {
   "cell_type": "code",
   "execution_count": null,
   "metadata": {},
   "outputs": [],
   "source": [
    "minimizer.min_type(\"lbfgs_armijo_nonmonotone\")"
   ]
  },
  {
   "cell_type": "code",
   "execution_count": null,
   "metadata": {},
   "outputs": [],
   "source": [
    "minimizer.constraintscst_file(\"constraints_file.cst\")\n",
    "minimizer.score_function(sfxn)\n",
    "minimizer.apply(enzyme_pose)"
   ]
  },
  {
   "cell_type": "code",
   "execution_count": null,
   "metadata": {},
   "outputs": [],
   "source": [
    "sfxn =  ref2015_cart.wts"
   ]
  },
  {
   "cell_type": "code",
   "execution_count": null,
   "metadata": {},
   "outputs": [],
   "source": [
    "pyrosetta.rosetta.core.scoring.ScoreFunction(\"ref2015_cart.wts\")"
   ]
  },
  {
   "cell_type": "code",
   "execution_count": null,
   "metadata": {},
   "outputs": [],
   "source": [
    "chemical_edges = enzyme_pose.fold_tree().get_chemical_edges() # connections to the glycan residues from anchor out "
   ]
  },
  {
   "cell_type": "code",
   "execution_count": null,
   "metadata": {},
   "outputs": [],
   "source": [
    "len(chemical_edges)"
   ]
  },
  {
   "cell_type": "code",
   "execution_count": null,
   "metadata": {},
   "outputs": [],
   "source": [
    "chemical_edges"
   ]
  },
  {
   "cell_type": "code",
   "execution_count": null,
   "metadata": {},
   "outputs": [],
   "source": [
    "chemical_edges"
   ]
  },
  {
   "cell_type": "code",
   "execution_count": 6,
   "metadata": {},
   "outputs": [
    {
     "ename": "NameError",
     "evalue": "name 'constraints_file' is not defined",
     "output_type": "error",
     "traceback": [
      "\u001b[0;31m---------------------------------------------------------------------------\u001b[0m",
      "\u001b[0;31mNameError\u001b[0m                                 Traceback (most recent call last)",
      "\u001b[0;32m<ipython-input-6-c9836ed3f68d>\u001b[0m in \u001b[0;36m<module>\u001b[0;34m\u001b[0m\n\u001b[0;32m----> 1\u001b[0;31m \u001b[0minit\u001b[0m\u001b[0;34m(\u001b[0m\u001b[0;34m\"-constraints:cst_fa_file \"\u001b[0m \u001b[0;34m+\u001b[0m \u001b[0mconstraints_file\u001b[0m\u001b[0;34m)\u001b[0m\u001b[0;34m\u001b[0m\u001b[0;34m\u001b[0m\u001b[0m\n\u001b[0m",
      "\u001b[0;31mNameError\u001b[0m: name 'constraints_file' is not defined"
     ]
    }
   ],
   "source": [
    "init(\"-constraints:cst_fa_file \" + constraints_file)"
   ]
  },
  {
   "cell_type": "code",
   "execution_count": 5,
   "metadata": {},
   "outputs": [
    {
     "name": "stdout",
     "output_type": "stream",
     "text": [
      "\u001b[0mcore.scoring.CartesianBondedEnergy: {0} \u001b[0mInitializing IdealParametersDatabase with default Ks=300 , 80 , 80 , 10 , 80\n",
      "\u001b[0mbasic.io.database: {0} \u001b[0mDatabase file opened: scoring/score_functions/bondlength_bondangle/default-lengths.txt\n",
      "\u001b[0mcore.scoring.CartesianBondedEnergy: {0} \u001b[0mRead 759 bb-independent lengths.\n",
      "\u001b[0mbasic.io.database: {0} \u001b[0mDatabase file opened: scoring/score_functions/bondlength_bondangle/default-angles.txt\n",
      "\u001b[0mcore.scoring.CartesianBondedEnergy: {0} \u001b[0mRead 1434 bb-independent angles.\n",
      "\u001b[0mbasic.io.database: {0} \u001b[0mDatabase file opened: scoring/score_functions/bondlength_bondangle/default-torsions.txt\n",
      "\u001b[0mcore.scoring.CartesianBondedEnergy: {0} \u001b[0mRead 1 bb-independent torsions.\n",
      "\u001b[0mbasic.io.database: {0} \u001b[0mDatabase file opened: scoring/score_functions/bondlength_bondangle/default-improper.txt\n",
      "\u001b[0mcore.scoring.CartesianBondedEnergy: {0} \u001b[0mRead 529 bb-independent improper tors.\n"
     ]
    },
    {
     "ename": "NameError",
     "evalue": "name 'add_fa_constraints_from_cmdline' is not defined",
     "output_type": "error",
     "traceback": [
      "\u001b[0;31m---------------------------------------------------------------------------\u001b[0m",
      "\u001b[0;31mNameError\u001b[0m                                 Traceback (most recent call last)",
      "\u001b[0;32m<ipython-input-5-67d4dd2eb6d8>\u001b[0m in \u001b[0;36m<module>\u001b[0;34m\u001b[0m\n\u001b[1;32m      1\u001b[0m \u001b[0msfxn\u001b[0m \u001b[0;34m=\u001b[0m \u001b[0mpyrosetta\u001b[0m\u001b[0;34m.\u001b[0m\u001b[0mcreate_score_function\u001b[0m\u001b[0;34m(\u001b[0m\u001b[0;34m\"ref2015_cart.wts\"\u001b[0m\u001b[0;34m)\u001b[0m \u001b[0;31m#get_fa_scorefxn()\u001b[0m\u001b[0;34m\u001b[0m\u001b[0;34m\u001b[0m\u001b[0m\n\u001b[1;32m      2\u001b[0m \u001b[0msfxn\u001b[0m\u001b[0;34m.\u001b[0m\u001b[0mset_weight\u001b[0m\u001b[0;34m(\u001b[0m\u001b[0matom_pair_constraint\u001b[0m\u001b[0;34m,\u001b[0m \u001b[0;36m1.0\u001b[0m\u001b[0;34m)\u001b[0m\u001b[0;34m\u001b[0m\u001b[0;34m\u001b[0m\u001b[0m\n\u001b[0;32m----> 3\u001b[0;31m \u001b[0madd_fa_constraints_from_cmdline\u001b[0m\u001b[0;34m(\u001b[0m\u001b[0menzyme_pose\u001b[0m\u001b[0;34m,\u001b[0m \u001b[0msfxn\u001b[0m\u001b[0;34m)\u001b[0m\u001b[0;34m\u001b[0m\u001b[0;34m\u001b[0m\u001b[0m\n\u001b[0m\u001b[1;32m      4\u001b[0m \u001b[0mprint\u001b[0m\u001b[0;34m(\u001b[0m\u001b[0msfxn\u001b[0m\u001b[0;34m.\u001b[0m\u001b[0mshow\u001b[0m\u001b[0;34m(\u001b[0m\u001b[0menzyme_pose\u001b[0m\u001b[0;34m)\u001b[0m\u001b[0;34m)\u001b[0m\u001b[0;34m\u001b[0m\u001b[0;34m\u001b[0m\u001b[0m\n\u001b[1;32m      5\u001b[0m \u001b[0;34m\u001b[0m\u001b[0m\n",
      "\u001b[0;31mNameError\u001b[0m: name 'add_fa_constraints_from_cmdline' is not defined"
     ]
    }
   ],
   "source": [
    "sfxn = pyrosetta.create_score_function(\"ref2015_cart.wts\") #get_fa_scorefxn()\n",
    "sfxn.set_weight(atom_pair_constraint, 1.0)\n",
    "add_fa_constraints_from_cmdline(enzyme_pose, sfxn)\n",
    "print(sfxn.show(enzyme_pose))\n",
    "\n",
    "minimizer =  pyrosetta.rosetta.protocols.minimization_packing.MinMover()\n",
    "minimizer.cartesian(True)\n",
    "minimizer.tolerance(0.001)\n",
    "minimizer.min_type(\"lbfgs_armijo_nonmonotone\")\n",
    "minimizer.score_function(sfxn)\n",
    "minimizer.apply(enzyme_pose)"
   ]
  },
  {
   "cell_type": "code",
   "execution_count": 19,
   "metadata": {},
   "outputs": [
    {
     "name": "stdout",
     "output_type": "stream",
     "text": [
      "303\n"
     ]
    }
   ],
   "source": [
    "print(enzyme_pose.pdb_info().pdb2pose('A',358))"
   ]
  },
  {
   "cell_type": "code",
   "execution_count": 21,
   "metadata": {},
   "outputs": [
    {
     "name": "stdout",
     "output_type": "stream",
     "text": [
      "Residue 375: ->3)-alpha-D-Galp:2-AcNH (Gal, Z):\n",
      "Base: ->3)-alpha-D-Galp\n",
      " Properties: POLYMER CARBOHYDRATE POLAR CYCLIC HEXOSE ALDOSE D_SUGAR PYRANOSE ALPHA_SUGAR C2_MODIFIED ACETYLAMINO_SUGAR\n",
      " Variant types: C2_ACETYLAMINO_SUGAR\n",
      " Main-chain atoms:  C1   C2   C3   O3 \n",
      " Backbone atoms:    C1   C2   C3   O3   C4   C5   O5   VO5  VC1  H1   H2   H3   H4   H5 \n",
      " Ring atoms:    C1   C2   C3   C4   C5   O5 \n",
      " Side-chain atoms:  O1   O2   O4   C6   O6   HO1  HO3  HO2  N2   CN2 CAN2 OCN2  HO4 1H6  2H6   HO6  HN2 1HC2 2HC2 3HC2\n",
      "Carbohydrate Properties for this Residue:\n",
      " Basic Name: galactosamine\n",
      " IUPAC Name: ->3)-alpha-2-(N-acetylamino)-2-deoxy-D-galactopyranosyl\n",
      " Abbreviation: ->3)-alpha-D-GalpNAc-\n",
      " Classification: aldohexose\n",
      " Stereochemistry: D\n",
      " Ring Form: pyranose\n",
      " Anomeric Form: alpha\n",
      " Modifications: \n",
      "  acetylamino sugar\n",
      " Polymeric Information:\n",
      "  Reducing?: no\n",
      "  Main chain connection: (_->3)\n",
      "  Branch connections: none\n",
      "Ring Conformer: 4C1 (chair): C-P parameters (q, phi, theta): 0.55, 180, 0; nu angles (degrees): 60, -60, 60, -60, 60, -60\n",
      "  N2 : equatorial\n",
      "  O3 : equatorial\n",
      "  O4 : axial\n",
      "  C6 : equatorial\n",
      "Atom Coordinates:\n",
      "   C1 : 4.13842, 5.653, 2.39823\n",
      "   C2 : 5.2613, 6.71123, 2.54587\n",
      "   C3 : 6.46704, 6.06575, 3.23174\n",
      "   O3 : 7.5174, 7.0249, 3.37895\n",
      "   C4 : 6.00584, 5.57255, 4.60468\n",
      "   C5 : 4.88369, 4.55509, 4.38911\n",
      "   O5 : 3.77048, 5.16731, 3.69022\n",
      "   VO5: 3.77048, 5.16731, 3.69022 (virtual)\n",
      "   VC1: 4.1683, 5.66759, 2.39984 (virtual)\n",
      "   O1 : 4.61673, 4.55277, 1.6036 (virtual)\n",
      "   O2 : 5.6383, 7.1847, 1.26131 (virtual)\n",
      "   O4 : 5.53082, 6.67159, 5.36815\n",
      "   C6 : 4.38461, 4.02965, 5.71385\n",
      "   O6 : 3.87761, 5.08257, 6.52051\n",
      "   HO1: 3.54115, 3.71729, 1.15621 (virtual)\n",
      "   HO3: 8.79488, 6.31926, 3.72553 (virtual)\n",
      "   HO2: 6.34825, 7.85377, 1.35465 (virtual)\n",
      "   N2 : 5.65343, 7.16944, 1.22724\n",
      "   CN2: 5.51315, 8.44809, 0.968949\n",
      "  CAN2: 5.89358, 9.01228, -0.363335\n",
      "  OCN2: 5.03984, 9.17801, 1.84414\n",
      "   H1 : 3.26786, 6.10347, 1.89903\n",
      "   H2 : 4.88717, 7.54789, 3.15418\n",
      "   H3 : 6.82178, 5.22575, 2.61647\n",
      "   H4 : 6.85616, 5.10273, 5.12065\n",
      "   H5 : 5.27011, 3.7173, 3.79012\n",
      "   HO4: 6.25082, 7.32668, 5.48153\n",
      "  1H6 : 5.21749, 3.5436, 6.24305\n",
      "  2H6 : 3.5808, 3.30147, 5.5304\n",
      "   HO6: 4.58785, 5.73636, 6.68939\n",
      "   HN2: 6.00725, 6.5393, 0.550609\n",
      "  1HC2: 5.70374, 8.26491, -1.1464\n",
      "  2HC2: 6.97084, 9.22941, -0.376139\n",
      "  3HC2: 5.35056, 9.95265, -0.532531\n",
      "Mirrored relative to coordinates in ResidueType: FALSE\n",
      "\n"
     ]
    }
   ],
   "source": [
    "print(enzyme_pose.residue(375))"
   ]
  },
  {
   "cell_type": "code",
   "execution_count": null,
   "metadata": {},
   "outputs": [],
   "source": []
  }
 ],
 "metadata": {
  "kernelspec": {
   "display_name": "Python 3",
   "language": "python",
   "name": "python3"
  },
  "language_info": {
   "codemirror_mode": {
    "name": "ipython",
    "version": 3
   },
   "file_extension": ".py",
   "mimetype": "text/x-python",
   "name": "python",
   "nbconvert_exporter": "python",
   "pygments_lexer": "ipython3",
   "version": "3.7.7"
  }
 },
 "nbformat": 4,
 "nbformat_minor": 4
}
