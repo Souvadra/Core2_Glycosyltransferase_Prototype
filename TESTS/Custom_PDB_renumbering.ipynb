{
 "cells": [
  {
   "cell_type": "code",
   "execution_count": 1,
   "id": "mathematical-conspiracy",
   "metadata": {},
   "outputs": [],
   "source": [
    "filename = \"TESTING_acceptor_peptide_pose.pdb\"\n",
    "\n",
    "with open(filename) as f:\n",
    "    content = f.readlines()"
   ]
  },
  {
   "cell_type": "code",
   "execution_count": 2,
   "id": "failing-filing",
   "metadata": {},
   "outputs": [],
   "source": [
    "res_before = 371 "
   ]
  },
  {
   "cell_type": "code",
   "execution_count": 3,
   "id": "overall-modeling",
   "metadata": {},
   "outputs": [],
   "source": [
    "with open('output_acceptor.pdb','w') as ff:\n",
    "    for line in content:\n",
    "        curr_line = line.split()\n",
    "        if len(curr_line) > 0:\n",
    "            if curr_line[0] not in ['HETNAM','ATOM', 'HETATM','LINK','SSBOND']:\n",
    "                ff.write(line)\n",
    "            else:\n",
    "                if curr_line[0] == 'HETNAM':\n",
    "                    out_num = str(int(curr_line[3]) + res_before)\n",
    "                    in_num_len = len(curr_line[3])\n",
    "                    in_index = 3\n",
    "                if curr_line[0] in {'HETATM','ATOM'}:\n",
    "                    out_num = str(int(curr_line[5]) + res_before)\n",
    "                    in_num_len = len(curr_line[5])\n",
    "                    in_index = 5\n",
    "                if curr_line[0] in {'LINK', 'SSBOND'}:\n",
    "                    if curr_line[0] == 'LINK': \n",
    "                        i1 = 4; i2 = 8\n",
    "                    if curr_line[0] == 'SSBOND':\n",
    "                        i1 = 3; i2 = 6\n",
    "\n",
    "                    out_num1 = str(int(curr_line[i1]) + res_before)\n",
    "                    in_num1_len = len(curr_line[i1])\n",
    "                    in_index1 = i1\n",
    "\n",
    "                    out_num2 = str(int(curr_line[i2]) + res_before)\n",
    "                    in_num2_len = len(curr_line[i2])\n",
    "                    in_index2 = i2\n",
    "                out_line = list(line)\n",
    "                \n",
    "                index_dict = {}\n",
    "                index_dict['ATOM'] = (22,25)\n",
    "                index_dict['HETNAM'] = (16,19)\n",
    "                index_dict['SSBOND'] = (16,20,30,34)\n",
    "                index_dict['LINK'] = (22,25,52,55)\n",
    "                index_dict['HETATM'] = (22,25)\n",
    "\n",
    "                if curr_line[0] not in  {'LINK','SSBOND'}:\n",
    "                    out_num_len = len(out_num)\n",
    "                    extra_left_space = out_num_len - in_num_len\n",
    "                    index = index_dict[curr_line[0]][1]\n",
    "                    j = out_num_len - 1\n",
    "                    while index > index_dict[curr_line[0]][0]:\n",
    "                        if out_line[index] != \" \":\n",
    "                            out_line[index] = \" \"\n",
    "                        if j >= 0:\n",
    "                            out_line[index] = out_num[j]\n",
    "                            j -= 1\n",
    "                        index -= 1\n",
    "                else:\n",
    "                    out_num1_len = len(out_num1)\n",
    "                    out_num2_len = len(out_num2)\n",
    "                    extra_left_space1 = out_num1_len - in_num1_len\n",
    "                    extra_left_space2 = out_num2_len - in_num2_len\n",
    "                    index1 = index_dict[curr_line[0]][1]\n",
    "                    index2 = index_dict[curr_line[0]][3]\n",
    "                    j1 = out_num1_len - 1\n",
    "                    j2 = out_num2_len - 1\n",
    "                    \n",
    "                    while index1 > index_dict[curr_line[0]][0]:\n",
    "                        if out_line[index1] != \" \":\n",
    "                            out_line[index1] = \" \"\n",
    "                        if j1 >= 0:\n",
    "                            out_line[index1] = out_num1[j1]\n",
    "                            j1 -= 1\n",
    "                        index1 -= 1\n",
    "                    while index2 > index_dict[curr_line[0]][2]:\n",
    "                        if out_line[index2] != \" \":\n",
    "                            out_line[index2] = \" \"\n",
    "                        if j2 >= 0:\n",
    "                            out_line[index2] = out_num2[j2]\n",
    "                            j2 -= 1\n",
    "                        index2 -= 1\n",
    "\n",
    "                ff.write(\"\".join(out_line))"
   ]
  },
  {
   "cell_type": "code",
   "execution_count": 63,
   "id": "editorial-michael",
   "metadata": {},
   "outputs": [],
   "source": [
    "with open('output_acceptor_peptide.pdb','w') as ff:\n",
    "    for line in content:\n",
    "        x = line.split()\n",
    "        ff.write(\" \".join(x)+\"\\n\")"
   ]
  },
  {
   "cell_type": "code",
   "execution_count": 64,
   "id": "happy-spotlight",
   "metadata": {},
   "outputs": [],
   "source": [
    "with open('output_acceptor_peptide.pdb','w') as ff:\n",
    "    for line in content:\n",
    "        ff.write(line)"
   ]
  },
  {
   "cell_type": "code",
   "execution_count": null,
   "id": "convenient-register",
   "metadata": {},
   "outputs": [],
   "source": []
  }
 ],
 "metadata": {
  "kernelspec": {
   "display_name": "Python 3",
   "language": "python",
   "name": "python3"
  },
  "language_info": {
   "codemirror_mode": {
    "name": "ipython",
    "version": 3
   },
   "file_extension": ".py",
   "mimetype": "text/x-python",
   "name": "python",
   "nbconvert_exporter": "python",
   "pygments_lexer": "ipython3",
   "version": "3.8.3"
  }
 },
 "nbformat": 4,
 "nbformat_minor": 5
}