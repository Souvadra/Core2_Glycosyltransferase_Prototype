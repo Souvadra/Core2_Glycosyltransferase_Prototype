{
 "cells": [
  {
   "cell_type": "code",
   "execution_count": null,
   "metadata": {},
   "outputs": [],
   "source": [
    "import pyrosetta\n",
    "\n",
    "pyrosetta.init()\n",
    "\n",
    "pmm = pyrosetta.PyMOLMover()\n",
    "pmm.keep_history(True)"
   ]
  },
  {
   "cell_type": "code",
   "execution_count": null,
   "metadata": {},
   "outputs": [],
   "source": [
    "pose = pyrosetta.pose_from_file('1b2s.pdb')\n",
    "pmm.apply(pose)"
   ]
  },
  {
   "cell_type": "markdown",
   "metadata": {},
   "source": [
    "What is the fold tree of the pose? Explain what each edge means."
   ]
  },
  {
   "cell_type": "code",
   "execution_count": null,
   "metadata": {},
   "outputs": [],
   "source": [
    "print(pose.fold_tree())"
   ]
  },
  {
   "cell_type": "markdown",
   "metadata": {},
   "source": [
    "Let's change the phi torsion of residue 55. How does the structure change?"
   ]
  },
  {
   "cell_type": "code",
   "execution_count": null,
   "metadata": {},
   "outputs": [],
   "source": [
    "pose1 = pose.clone()\n",
    "pose1.set_phi(55, pose1.phi(55) - 180)\n",
    "pmm.apply(pose1)"
   ]
  },
  {
   "cell_type": "markdown",
   "metadata": {},
   "source": [
    "Create a new fold tree. What does this tree mean."
   ]
  },
  {
   "cell_type": "code",
   "execution_count": null,
   "metadata": {},
   "outputs": [],
   "source": [
    "ft = pyrosetta.FoldTree()\n",
    "ft.add_edge(1, 71, -1)\n",
    "ft.add_edge(1, 72, 1)\n",
    "ft.add_edge(72, 200, -1)"
   ]
  },
  {
   "cell_type": "markdown",
   "metadata": {},
   "source": [
    "Set this as the pose's fold tree, and do the same backbone purterbation. How does the structure change now? (You may want to use `show sticks, name n+ca+c+o` in pymol to make sense of this change)."
   ]
  },
  {
   "cell_type": "code",
   "execution_count": null,
   "metadata": {
    "nbgrader": {
     "grade": true,
     "grade_id": "cell-69d664d20bbd7c50",
     "locked": false,
     "points": 0,
     "schema_version": 3,
     "solution": true
    }
   },
   "outputs": [],
   "source": [
    "#1\n",
    "### BEGIN SOLUTION\n",
    "pose.fold_tree(ft)\n",
    "pose1 = pose.clone()\n",
    "pose1.set_phi(55, pose1.phi(55) - 180)\n",
    "pmm.apply(pose)\n",
    "pmm.apply(pose1)\n",
    "### END SOLUTION"
   ]
  },
  {
   "cell_type": "markdown",
   "metadata": {},
   "source": [
    "The following code crashes. Why? Can you fix it?"
   ]
  },
  {
   "cell_type": "code",
   "execution_count": null,
   "metadata": {
    "nbgrader": {
     "grade": true,
     "grade_id": "cell-76fdaa2c602df816",
     "locked": false,
     "points": 0,
     "schema_version": 3,
     "solution": true
    }
   },
   "outputs": [],
   "source": [
    "#2\n",
    "ft = pyrosetta.FoldTree()\n",
    "ft.add_edge(1, 71, -1)\n",
    "ft.add_edge(72, 200, -1)\n",
    "ft.add_edge(1, 72, 1)\n",
    "pose3 = pose.clone()\n",
    "pose3.fold_tree(ft)\n",
    "\n",
    "### BEGIN SOLUTION\n",
    "ft = pyrosetta.FoldTree()\n",
    "ft.add_edge(1, 71, -1)\n",
    "ft.add_edge(72, 200, -1)\n",
    "ft.add_edge(1, 72, 1)\n",
    "ft.reorder(1)\n",
    "pose3 = pose.clone()\n",
    "pose3.fold_tree(ft)\n",
    "### END SOLUTION"
   ]
  },
  {
   "cell_type": "markdown",
   "metadata": {},
   "source": [
    "Can you create a flexible loop docking fold tree such that the two chain break points are at 71 and 110?"
   ]
  },
  {
   "cell_type": "code",
   "execution_count": null,
   "metadata": {
    "nbgrader": {
     "grade": true,
     "grade_id": "cell-b7039d7cbfb62b6b",
     "locked": false,
     "points": 0,
     "schema_version": 3,
     "solution": true
    }
   },
   "outputs": [],
   "source": [
    "#3\n",
    "### BEGIN SOLUTION\n",
    "ft = pyrosetta.FoldTree()\n",
    "ft.add_edge(1, 71, -1)\n",
    "ft.add_edge(72, 110, -1)\n",
    "ft.add_edge(111, 200, -1)\n",
    "ft.add_edge(1, 72, 1)\n",
    "ft.add_edge(1, 111, 2)\n",
    "ft.reorder(1)\n",
    "pose3 = pose.clone()\n",
    "pose3.fold_tree(ft)\n",
    "### END SOLUTION"
   ]
  }
 ],
 "metadata": {
  "celltoolbar": "Create Assignment",
  "kernelspec": {
   "display_name": "Python 3",
   "language": "python",
   "name": "python3"
  },
  "language_info": {
   "codemirror_mode": {
    "name": "ipython",
    "version": 3
   },
   "file_extension": ".py",
   "mimetype": "text/x-python",
   "name": "python",
   "nbconvert_exporter": "python",
   "pygments_lexer": "ipython3",
   "version": "3.7.7"
  }
 },
 "nbformat": 4,
 "nbformat_minor": 2
}